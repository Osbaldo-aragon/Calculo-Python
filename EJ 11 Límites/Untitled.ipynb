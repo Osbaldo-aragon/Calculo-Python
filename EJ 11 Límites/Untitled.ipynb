{
 "cells": [
  {
   "cell_type": "markdown",
   "id": "583407b0",
   "metadata": {},
   "source": [
    "## <div style=\"text-align: center\">CURSO DE MATEMÁTICAS CON PYTHON</div>\n",
    "### <div style=\"text-align: center\">Ejercicio 11: Limites </div>\n",
    "#### <div style=\"text-align: center\">Elaborado por: Osbaldo Aragón, 09/ene/2023</div>"
   ]
  },
  {
   "cell_type": "code",
   "execution_count": 8,
   "id": "a2e93dd3",
   "metadata": {},
   "outputs": [
    {
     "data": {
      "text/latex": [
       "$\\displaystyle \\lim_{x \\to 0}\\left(\\frac{\\sin{\\left(x \\right)}}{x}\\right)$"
      ],
      "text/plain": [
       "Limit(sin(x)/x, x, 0, dir='+-')"
      ]
     },
     "execution_count": 8,
     "metadata": {},
     "output_type": "execute_result"
    }
   ],
   "source": [
    "from sympy import *\n",
    "x,h = symbols('x,h')\n",
    "expr = Limit(sin(x)/x, x, 0,\"+-\")\n",
    "expr"
   ]
  },
  {
   "cell_type": "code",
   "execution_count": 9,
   "id": "98c7b9ea",
   "metadata": {},
   "outputs": [
    {
     "data": {
      "text/latex": [
       "$\\displaystyle 1$"
      ],
      "text/plain": [
       "1"
      ]
     },
     "execution_count": 9,
     "metadata": {},
     "output_type": "execute_result"
    }
   ],
   "source": [
    "expr.doit()"
   ]
  },
  {
   "cell_type": "code",
   "execution_count": 10,
   "id": "7df6f7cf",
   "metadata": {},
   "outputs": [
    {
     "data": {
      "text/latex": [
       "$\\displaystyle 1$"
      ],
      "text/plain": [
       "1"
      ]
     },
     "execution_count": 10,
     "metadata": {},
     "output_type": "execute_result"
    }
   ],
   "source": [
    "expr = limit(sin(x)/x, x, 0)\n",
    "expr"
   ]
  },
  {
   "cell_type": "markdown",
   "id": "4b3ab874",
   "metadata": {},
   "source": [
    "### Limites al infinito"
   ]
  },
  {
   "cell_type": "code",
   "execution_count": 11,
   "id": "e237665c",
   "metadata": {},
   "outputs": [
    {
     "data": {
      "text/latex": [
       "$\\displaystyle x^{2} e^{- x}$"
      ],
      "text/plain": [
       "x**2*exp(-x)"
      ]
     },
     "execution_count": 11,
     "metadata": {},
     "output_type": "execute_result"
    }
   ],
   "source": [
    "expr = x**2/exp(x)\n",
    "expr"
   ]
  },
  {
   "cell_type": "code",
   "execution_count": 12,
   "id": "4e6912dd",
   "metadata": {},
   "outputs": [
    {
     "data": {
      "text/latex": [
       "$\\displaystyle \\text{NaN}$"
      ],
      "text/plain": [
       "nan"
      ]
     },
     "execution_count": 12,
     "metadata": {},
     "output_type": "execute_result"
    }
   ],
   "source": [
    "expr.subs(x, oo)"
   ]
  },
  {
   "cell_type": "code",
   "execution_count": 14,
   "id": "7c9e96eb",
   "metadata": {},
   "outputs": [
    {
     "data": {
      "text/latex": [
       "$\\displaystyle \\lim_{x \\to \\infty}\\left(x^{2} e^{- x}\\right)$"
      ],
      "text/plain": [
       "Limit(x**2*exp(-x), x, oo, dir='-')"
      ]
     },
     "execution_count": 14,
     "metadata": {},
     "output_type": "execute_result"
    }
   ],
   "source": [
    "Limit(expr, x, oo)"
   ]
  },
  {
   "cell_type": "code",
   "execution_count": 15,
   "id": "c313a10e",
   "metadata": {},
   "outputs": [
    {
     "data": {
      "text/latex": [
       "$\\displaystyle 0$"
      ],
      "text/plain": [
       "0"
      ]
     },
     "execution_count": 15,
     "metadata": {},
     "output_type": "execute_result"
    }
   ],
   "source": [
    "limit(expr, x, oo)"
   ]
  },
  {
   "cell_type": "markdown",
   "id": "15220ee1",
   "metadata": {},
   "source": [
    "### Limites por izquierda o derecha"
   ]
  },
  {
   "cell_type": "code",
   "execution_count": 16,
   "id": "9b3638ab",
   "metadata": {},
   "outputs": [
    {
     "data": {
      "text/latex": [
       "$\\displaystyle \\lim_{x \\to 0^+}\\left(\\frac{\\cos{\\left(x \\right)} - 1}{x}\\right)$"
      ],
      "text/plain": [
       "Limit((cos(x) - 1)/x, x, 0)"
      ]
     },
     "execution_count": 16,
     "metadata": {},
     "output_type": "execute_result"
    }
   ],
   "source": [
    "expr = Limit((cos(x)-1)/x,x,0)\n",
    "expr"
   ]
  },
  {
   "cell_type": "code",
   "execution_count": 17,
   "id": "bf70a04a",
   "metadata": {},
   "outputs": [
    {
     "data": {
      "text/latex": [
       "$\\displaystyle 0$"
      ],
      "text/plain": [
       "0"
      ]
     },
     "execution_count": 17,
     "metadata": {},
     "output_type": "execute_result"
    }
   ],
   "source": [
    "expr.doit()"
   ]
  },
  {
   "cell_type": "code",
   "execution_count": 31,
   "id": "63e36777",
   "metadata": {},
   "outputs": [
    {
     "data": {
      "text/latex": [
       "$\\displaystyle \\lim_{x \\to 3^-}\\left(\\frac{\\cos{\\left(x \\right)} - 1}{x}\\right)$"
      ],
      "text/plain": [
       "Limit((cos(x) - 1)/x, x, 3, dir='-')"
      ]
     },
     "execution_count": 31,
     "metadata": {},
     "output_type": "execute_result"
    }
   ],
   "source": [
    "expr = Limit((cos(x)-1)/x,x,3,'-')\n",
    "expr"
   ]
  },
  {
   "cell_type": "code",
   "execution_count": 32,
   "id": "098beecc",
   "metadata": {},
   "outputs": [
    {
     "data": {
      "text/latex": [
       "$\\displaystyle - \\frac{1}{3} + \\frac{\\cos{\\left(3 \\right)}}{3}$"
      ],
      "text/plain": [
       "-1/3 + cos(3)/3"
      ]
     },
     "execution_count": 32,
     "metadata": {},
     "output_type": "execute_result"
    }
   ],
   "source": [
    "expr.doit()"
   ]
  },
  {
   "cell_type": "markdown",
   "id": "2300bd9a",
   "metadata": {},
   "source": [
    "### Definición de la derivada por límites\n",
    "\n",
    "Partimos de la definición de la derivada:\n",
    "$$\\lim_{h \\to 0} \\frac{f_{(x+h)} - f_{(x)}}{h}$$\n",
    "Para derivar la función:\n",
    "$$f(x) = x^3-x^2+2x-1$$\n",
    "\n",
    "Declaramos la función $f_{(x)}$"
   ]
  },
  {
   "cell_type": "code",
   "execution_count": 34,
   "id": "e592a42a",
   "metadata": {},
   "outputs": [
    {
     "data": {
      "text/latex": [
       "$\\displaystyle x^{3} - x^{2} + 2 x - 1$"
      ],
      "text/plain": [
       "x**3 - x**2 + 2*x - 1"
      ]
     },
     "execution_count": 34,
     "metadata": {},
     "output_type": "execute_result"
    }
   ],
   "source": [
    "fx = x**3 - x**2 + 2*x - 1\n",
    "fx"
   ]
  },
  {
   "cell_type": "markdown",
   "id": "fc5f591a",
   "metadata": {},
   "source": [
    "Declarar la función $f_{(x+h)}$"
   ]
  },
  {
   "cell_type": "code",
   "execution_count": 36,
   "id": "73ce85ed",
   "metadata": {
    "scrolled": true
   },
   "outputs": [
    {
     "data": {
      "text/latex": [
       "$\\displaystyle 2 h + 2 x + \\left(h + x\\right)^{3} - \\left(h + x\\right)^{2} - 1$"
      ],
      "text/plain": [
       "2*h + 2*x + (h + x)**3 - (h + x)**2 - 1"
      ]
     },
     "execution_count": 36,
     "metadata": {},
     "output_type": "execute_result"
    }
   ],
   "source": [
    "f_xh = fx.subs(x,(x+h))\n",
    "f_xh"
   ]
  },
  {
   "cell_type": "markdown",
   "id": "8b632663",
   "metadata": {},
   "source": [
    "Definición de la derivada:"
   ]
  },
  {
   "cell_type": "code",
   "execution_count": 38,
   "id": "e879b83a",
   "metadata": {},
   "outputs": [
    {
     "data": {
      "text/latex": [
       "$\\displaystyle \\lim_{h \\to 0^+}\\left(\\frac{2 h - x^{3} + x^{2} + \\left(h + x\\right)^{3} - \\left(h + x\\right)^{2}}{h}\\right)$"
      ],
      "text/plain": [
       "Limit((2*h - x**3 + x**2 + (h + x)**3 - (h + x)**2)/h, h, 0)"
      ]
     },
     "execution_count": 38,
     "metadata": {},
     "output_type": "execute_result"
    }
   ],
   "source": [
    "expr = Limit((f_xh-fx)/h, h, 0)\n",
    "expr"
   ]
  },
  {
   "cell_type": "code",
   "execution_count": 39,
   "id": "4568f380",
   "metadata": {},
   "outputs": [
    {
     "data": {
      "text/latex": [
       "$\\displaystyle 3 x^{2} - 2 x + 2$"
      ],
      "text/plain": [
       "3*x**2 - 2*x + 2"
      ]
     },
     "execution_count": 39,
     "metadata": {},
     "output_type": "execute_result"
    }
   ],
   "source": [
    "expr.doit()"
   ]
  },
  {
   "cell_type": "code",
   "execution_count": 40,
   "id": "0b650814",
   "metadata": {},
   "outputs": [
    {
     "data": {
      "text/latex": [
       "$\\displaystyle 3 x^{2} - 2 x + 2$"
      ],
      "text/plain": [
       "3*x**2 - 2*x + 2"
      ]
     },
     "execution_count": 40,
     "metadata": {},
     "output_type": "execute_result"
    }
   ],
   "source": [
    "fx.diff()"
   ]
  },
  {
   "cell_type": "code",
   "execution_count": 6,
   "id": "98261739",
   "metadata": {},
   "outputs": [
    {
     "name": "stdout",
     "output_type": "stream",
     "text": [
      "Help on function limit in module sympy.series.limits:\n",
      "\n",
      "limit(e, z, z0, dir='+')\n",
      "    Computes the limit of ``e(z)`` at the point ``z0``.\n",
      "    \n",
      "    Parameters\n",
      "    ==========\n",
      "    \n",
      "    e : expression, the limit of which is to be taken\n",
      "    \n",
      "    z : symbol representing the variable in the limit.\n",
      "        Other symbols are treated as constants. Multivariate limits\n",
      "        are not supported.\n",
      "    \n",
      "    z0 : the value toward which ``z`` tends. Can be any expression,\n",
      "        including ``oo`` and ``-oo``.\n",
      "    \n",
      "    dir : string, optional (default: \"+\")\n",
      "        The limit is bi-directional if ``dir=\"+-\"``, from the right\n",
      "        (z->z0+) if ``dir=\"+\"``, and from the left (z->z0-) if\n",
      "        ``dir=\"-\"``. For infinite ``z0`` (``oo`` or ``-oo``), the ``dir``\n",
      "        argument is determined from the direction of the infinity\n",
      "        (i.e., ``dir=\"-\"`` for ``oo``).\n",
      "    \n",
      "    Examples\n",
      "    ========\n",
      "    \n",
      "    >>> from sympy import limit, sin, oo\n",
      "    >>> from sympy.abc import x\n",
      "    >>> limit(sin(x)/x, x, 0)\n",
      "    1\n",
      "    >>> limit(1/x, x, 0) # default dir='+'\n",
      "    oo\n",
      "    >>> limit(1/x, x, 0, dir=\"-\")\n",
      "    -oo\n",
      "    >>> limit(1/x, x, 0, dir='+-')\n",
      "    zoo\n",
      "    >>> limit(1/x, x, oo)\n",
      "    0\n",
      "    \n",
      "    Notes\n",
      "    =====\n",
      "    \n",
      "    First we try some heuristics for easy and frequent cases like \"x\", \"1/x\",\n",
      "    \"x**2\" and similar, so that it's fast. For all other cases, we use the\n",
      "    Gruntz algorithm (see the gruntz() function).\n",
      "    \n",
      "    See Also\n",
      "    ========\n",
      "    \n",
      "     limit_seq : returns the limit of a sequence.\n",
      "\n"
     ]
    }
   ],
   "source": [
    "help(limit)"
   ]
  }
 ],
 "metadata": {
  "kernelspec": {
   "display_name": "Python 3 (ipykernel)",
   "language": "python",
   "name": "python3"
  },
  "language_info": {
   "codemirror_mode": {
    "name": "ipython",
    "version": 3
   },
   "file_extension": ".py",
   "mimetype": "text/x-python",
   "name": "python",
   "nbconvert_exporter": "python",
   "pygments_lexer": "ipython3",
   "version": "3.9.13"
  }
 },
 "nbformat": 4,
 "nbformat_minor": 5
}
