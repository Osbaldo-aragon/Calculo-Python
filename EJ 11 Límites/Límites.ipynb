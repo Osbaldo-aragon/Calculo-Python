{
 "cells": [
  {
   "cell_type": "markdown",
   "id": "bfac6068",
   "metadata": {},
   "source": [
    "# <div style=\"text-align: center\">CURSO DE MATEMÁTICAS CON PYTHON</div>\n",
    "## <div style=\"text-align: center\">Ejercicio 11: Limites </div>\n",
    "### <div style=\"text-align: center\">Elaborado por: Osbaldo Aragón, 09/ene/2023</div>"
   ]
  },
  {
   "cell_type": "markdown",
   "id": "c4d27cb8",
   "metadata": {},
   "source": [
    "### Limites\n",
    "\n",
    "SymPy puede calcular limites simbólicos con la funcion `limit`. La sintaxis de\n",
    "$\\lim_{x\\to\\infty} f(x)$ sería `limit(f(x),x0)`"
   ]
  },
  {
   "cell_type": "code",
   "execution_count": 10,
   "id": "a4d15929",
   "metadata": {},
   "outputs": [
    {
     "data": {
      "text/latex": [
       "$\\displaystyle \\lim_{x \\to 0^+}\\left(\\frac{\\sin{\\left(x \\right)}}{x}\\right)$"
      ],
      "text/plain": [
       "Limit(sin(x)/x, x, 0)"
      ]
     },
     "execution_count": 10,
     "metadata": {},
     "output_type": "execute_result"
    }
   ],
   "source": [
    "from sympy import *\n",
    "x,h = symbols('x,h')\n",
    "exp = Limit(sin(x)/x, x, 0) #la distincion entre L y l permite ejecutar o inidcar la expreción\n",
    "exp"
   ]
  },
  {
   "cell_type": "code",
   "execution_count": 11,
   "id": "64cc0ff3",
   "metadata": {},
   "outputs": [
    {
     "data": {
      "text/latex": [
       "$\\displaystyle 1$"
      ],
      "text/plain": [
       "1"
      ]
     },
     "execution_count": 11,
     "metadata": {},
     "output_type": "execute_result"
    }
   ],
   "source": [
    "exp.doit()"
   ]
  },
  {
   "cell_type": "code",
   "execution_count": 14,
   "id": "62ba5a0f",
   "metadata": {},
   "outputs": [
    {
     "data": {
      "text/latex": [
       "$\\displaystyle 1$"
      ],
      "text/plain": [
       "1"
      ]
     },
     "execution_count": 14,
     "metadata": {},
     "output_type": "execute_result"
    }
   ],
   "source": [
    "expr = limit(sin(x)/x, x, 0) #la distincion entre L y l permite ejecutar o inidcar la expreción\n",
    "expr"
   ]
  },
  {
   "cell_type": "markdown",
   "id": "5b8c4531",
   "metadata": {},
   "source": [
    "### Limites al Infinito"
   ]
  },
  {
   "cell_type": "code",
   "execution_count": 19,
   "id": "69ca7493",
   "metadata": {},
   "outputs": [
    {
     "data": {
      "text/latex": [
       "$\\displaystyle \\text{NaN}$"
      ],
      "text/plain": [
       "nan"
      ]
     },
     "execution_count": 19,
     "metadata": {},
     "output_type": "execute_result"
    }
   ],
   "source": [
    "expr = x**2/(2*x+3)\n",
    "expr.subs(x, oo)"
   ]
  },
  {
   "cell_type": "code",
   "execution_count": 20,
   "id": "671699b1",
   "metadata": {},
   "outputs": [
    {
     "data": {
      "text/latex": [
       "$\\displaystyle \\infty$"
      ],
      "text/plain": [
       "oo"
      ]
     },
     "execution_count": 20,
     "metadata": {},
     "output_type": "execute_result"
    }
   ],
   "source": [
    "limit(expr, x, oo)"
   ]
  },
  {
   "cell_type": "markdown",
   "id": "53ac071b",
   "metadata": {},
   "source": [
    "### Aproximaciones por Izquierda o Derecha"
   ]
  },
  {
   "cell_type": "code",
   "execution_count": 21,
   "id": "190a6f5b",
   "metadata": {},
   "outputs": [
    {
     "data": {
      "text/latex": [
       "$\\displaystyle \\lim_{x \\to 0^+}\\left(\\frac{\\cos{\\left(x \\right)} - 1}{x}\\right)$"
      ],
      "text/plain": [
       "Limit((cos(x) - 1)/x, x, 0)"
      ]
     },
     "execution_count": 21,
     "metadata": {},
     "output_type": "execute_result"
    }
   ],
   "source": [
    "expr = Limit((cos(x) - 1)/x, x, 0)\n",
    "expr"
   ]
  },
  {
   "cell_type": "code",
   "execution_count": 22,
   "id": "3a4e2ecb",
   "metadata": {
    "scrolled": true
   },
   "outputs": [
    {
     "data": {
      "text/latex": [
       "$\\displaystyle 0$"
      ],
      "text/plain": [
       "0"
      ]
     },
     "execution_count": 22,
     "metadata": {},
     "output_type": "execute_result"
    }
   ],
   "source": [
    "expr.doit()"
   ]
  },
  {
   "cell_type": "code",
   "execution_count": 23,
   "id": "9120098a",
   "metadata": {},
   "outputs": [
    {
     "data": {
      "text/latex": [
       "$\\displaystyle \\lim_{x \\to 0^-}\\left(\\frac{\\cos{\\left(x \\right)} - 1}{x}\\right)$"
      ],
      "text/plain": [
       "Limit((cos(x) - 1)/x, x, 0, dir='-')"
      ]
     },
     "execution_count": 23,
     "metadata": {},
     "output_type": "execute_result"
    }
   ],
   "source": [
    "expr = Limit((cos(x) - 1)/x, x, 0,'-')\n",
    "expr"
   ]
  },
  {
   "cell_type": "code",
   "execution_count": 24,
   "id": "b99f1646",
   "metadata": {},
   "outputs": [
    {
     "data": {
      "text/latex": [
       "$\\displaystyle 0$"
      ],
      "text/plain": [
       "0"
      ]
     },
     "execution_count": 24,
     "metadata": {},
     "output_type": "execute_result"
    }
   ],
   "source": [
    "expr.doit()"
   ]
  },
  {
   "cell_type": "markdown",
   "id": "d25b6d4e",
   "metadata": {},
   "source": [
    "Para evaluar un limite aproximado por uno de los lados, se coloca `+` o `-` como argumento en la funcion. Por ejemplo:"
   ]
  },
  {
   "cell_type": "code",
   "execution_count": 25,
   "id": "ed8c2d5b",
   "metadata": {},
   "outputs": [
    {
     "data": {
      "text/latex": [
       "$\\displaystyle \\lim_{x \\to 0^+} \\frac{1}{x}$"
      ],
      "text/plain": [
       "Limit(1/x, x, 0)"
      ]
     },
     "execution_count": 25,
     "metadata": {},
     "output_type": "execute_result"
    }
   ],
   "source": [
    "expr = Limit(1/x, x, 0, '+')\n",
    "expr"
   ]
  },
  {
   "cell_type": "code",
   "execution_count": 26,
   "id": "b0c4d7cc",
   "metadata": {
    "scrolled": true
   },
   "outputs": [
    {
     "data": {
      "text/latex": [
       "$\\displaystyle \\infty$"
      ],
      "text/plain": [
       "oo"
      ]
     },
     "execution_count": 26,
     "metadata": {},
     "output_type": "execute_result"
    }
   ],
   "source": [
    "expr.doit()"
   ]
  },
  {
   "cell_type": "code",
   "execution_count": 15,
   "id": "654a12f0",
   "metadata": {},
   "outputs": [
    {
     "data": {
      "text/latex": [
       "$\\displaystyle \\lim_{x \\to 0^-} \\frac{1}{x}$"
      ],
      "text/plain": [
       "Limit(1/x, x, 0, dir='-')"
      ]
     },
     "execution_count": 15,
     "metadata": {},
     "output_type": "execute_result"
    }
   ],
   "source": [
    "expr = Limit(1/x, x, 0, '-')\n",
    "expr"
   ]
  },
  {
   "cell_type": "code",
   "execution_count": 27,
   "id": "748d7bb6",
   "metadata": {
    "scrolled": false
   },
   "outputs": [
    {
     "data": {
      "text/latex": [
       "$\\displaystyle \\infty$"
      ],
      "text/plain": [
       "oo"
      ]
     },
     "execution_count": 27,
     "metadata": {},
     "output_type": "execute_result"
    }
   ],
   "source": [
    "expr.doit()"
   ]
  },
  {
   "cell_type": "markdown",
   "id": "87e8960f",
   "metadata": {},
   "source": [
    "### Definición de la derivada por limites"
   ]
  },
  {
   "cell_type": "markdown",
   "id": "5fdd2d6e",
   "metadata": {},
   "source": [
    "Partimos de la definición de la derivada:\n",
    "$$\\lim_{h \\to 0} \\frac{f_{(x+h)} - f_{(x)}}{h}$$"
   ]
  },
  {
   "cell_type": "markdown",
   "id": "ed085093",
   "metadata": {},
   "source": [
    "Para derivar la función:\n",
    "$$f(x) = x^3-x^2+2x-1$$\n",
    "\n",
    "Declaramos la función $f_{(x)}$"
   ]
  },
  {
   "cell_type": "code",
   "execution_count": 45,
   "id": "3fbe21c9",
   "metadata": {},
   "outputs": [
    {
     "data": {
      "text/latex": [
       "$\\displaystyle x^{3} - x^{2} + 2 x - 1$"
      ],
      "text/plain": [
       "x**3 - x**2 + 2*x - 1"
      ]
     },
     "execution_count": 45,
     "metadata": {},
     "output_type": "execute_result"
    }
   ],
   "source": [
    "fx = x**3-x**2+2*x-1\n",
    "fx"
   ]
  },
  {
   "cell_type": "markdown",
   "id": "4355da42",
   "metadata": {},
   "source": [
    "Definimos la función $f_{(x+h)}$"
   ]
  },
  {
   "cell_type": "code",
   "execution_count": 59,
   "id": "dba5afce",
   "metadata": {},
   "outputs": [
    {
     "data": {
      "text/latex": [
       "$\\displaystyle 2 h + 2 x + \\left(h + x\\right)^{3} - \\left(h + x\\right)^{2} - 1$"
      ],
      "text/plain": [
       "2*h + 2*x + (h + x)**3 - (h + x)**2 - 1"
      ]
     },
     "execution_count": 59,
     "metadata": {},
     "output_type": "execute_result"
    }
   ],
   "source": [
    "f_xh = fx.subs(x,(x+h))\n",
    "f_xh"
   ]
  },
  {
   "cell_type": "markdown",
   "id": "86b6adbe",
   "metadata": {},
   "source": [
    "Y sustituimos en la definicion de la derivada"
   ]
  },
  {
   "cell_type": "code",
   "execution_count": 60,
   "id": "6f8aeb67",
   "metadata": {
    "scrolled": true
   },
   "outputs": [
    {
     "data": {
      "text/latex": [
       "$\\displaystyle \\lim_{h \\to 0^+}\\left(\\frac{2 h - x^{3} + x^{2} + \\left(h + x\\right)^{3} - \\left(h + x\\right)^{2}}{h}\\right)$"
      ],
      "text/plain": [
       "Limit((2*h - x**3 + x**2 + (h + x)**3 - (h + x)**2)/h, h, 0)"
      ]
     },
     "execution_count": 60,
     "metadata": {},
     "output_type": "execute_result"
    }
   ],
   "source": [
    "expr = Limit((f_xh-fx)/h, h, 0)\n",
    "expr"
   ]
  },
  {
   "cell_type": "markdown",
   "id": "066ce58e",
   "metadata": {},
   "source": [
    "Desarrollamos la operación"
   ]
  },
  {
   "cell_type": "code",
   "execution_count": 58,
   "id": "116380bb",
   "metadata": {},
   "outputs": [
    {
     "data": {
      "text/latex": [
       "$\\displaystyle 3 x^{2} - 2 x + 2$"
      ],
      "text/plain": [
       "3*x**2 - 2*x + 2"
      ]
     },
     "execution_count": 58,
     "metadata": {},
     "output_type": "execute_result"
    }
   ],
   "source": [
    "expr.doit()"
   ]
  }
 ],
 "metadata": {
  "kernelspec": {
   "display_name": "Python 3 (ipykernel)",
   "language": "python",
   "name": "python3"
  },
  "language_info": {
   "codemirror_mode": {
    "name": "ipython",
    "version": 3
   },
   "file_extension": ".py",
   "mimetype": "text/x-python",
   "name": "python",
   "nbconvert_exporter": "python",
   "pygments_lexer": "ipython3",
   "version": "3.9.13"
  }
 },
 "nbformat": 4,
 "nbformat_minor": 5
}
