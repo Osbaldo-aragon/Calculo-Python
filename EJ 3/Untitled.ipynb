{
 "cells": [
  {
   "cell_type": "markdown",
   "id": "16dc1546",
   "metadata": {},
   "source": [
    "# Ejercicio 4: Computación Simbólica\n",
    "## Osbaldo Aragón\n",
    "### 27/jun/2023"
   ]
  },
  {
   "cell_type": "markdown",
   "id": "2fcb44ec",
   "metadata": {},
   "source": [
    "La computación simbólica se refiere al desarrollo de algoritmos para manipular expresiones matemáticas y otros objetos matemáticos. Calculamos la raíz cuadrada de un número usando el módulo matemático de Python como se indica a continuación:"
   ]
  },
  {
   "cell_type": "code",
   "execution_count": 2,
   "id": "eab96c6b",
   "metadata": {},
   "outputs": [
    {
     "name": "stdout",
     "output_type": "stream",
     "text": [
      "5.0 2.6457513110645907\n"
     ]
    }
   ],
   "source": [
    "import math as m\n",
    "print (math.sqrt(25), math.sqrt(7))"
   ]
  },
  {
   "cell_type": "markdown",
   "id": "055edaed",
   "metadata": {},
   "source": [
    "Como puede ver, la raíz cuadrada de 7 se calcula aproximadamente. Pero en SymPy, las raíces cuadradas de los números que no son cuadrados perfectos se dejan sin evaluar de forma predeterminada, como se indica a continuación:"
   ]
  },
  {
   "cell_type": "code",
   "execution_count": 11,
   "id": "10aa14c1",
   "metadata": {},
   "outputs": [
    {
     "data": {
      "text/latex": [
       "$\\displaystyle \\sqrt{7}$"
      ],
      "text/plain": [
       "sqrt(7)"
      ]
     },
     "execution_count": 11,
     "metadata": {},
     "output_type": "execute_result"
    }
   ],
   "source": [
    "from sympy import *\n",
    "sqrt(7)"
   ]
  },
  {
   "cell_type": "code",
   "execution_count": 12,
   "id": "5a60ace2",
   "metadata": {},
   "outputs": [
    {
     "data": {
      "text/latex": [
       "$\\displaystyle \\sqrt{7}$"
      ],
      "text/plain": [
       "sqrt(7)"
      ]
     },
     "execution_count": 12,
     "metadata": {},
     "output_type": "execute_result"
    }
   ],
   "source": [
    "ex = sqrt(7)\n",
    "ex"
   ]
  },
  {
   "cell_type": "code",
   "execution_count": 13,
   "id": "fccca3cc",
   "metadata": {},
   "outputs": [
    {
     "data": {
      "text/latex": [
       "$\\displaystyle \\int x^{x}\\, dx$"
      ],
      "text/plain": [
       "Integral(x**x, x)"
      ]
     },
     "execution_count": 13,
     "metadata": {},
     "output_type": "execute_result"
    }
   ],
   "source": [
    "x = Symbol('x')\n",
    "expr = integrate(x**x, x)\n",
    "expr"
   ]
  },
  {
   "cell_type": "code",
   "execution_count": 36,
   "id": "7389ba5f",
   "metadata": {},
   "outputs": [
    {
     "data": {
      "text/latex": [
       "$\\displaystyle \\frac{1}{a^{3} + b^{2}}$"
      ],
      "text/plain": [
       "1/(a**3 + b**2)"
      ]
     },
     "execution_count": 36,
     "metadata": {},
     "output_type": "execute_result"
    }
   ],
   "source": [
    "a = Symbol ('a')\n",
    "b = Symbol ('b')\n",
    "c = Symbol ('c')\n",
    "expr = 1/(a**3+b**2)\n",
    "expr"
   ]
  },
  {
   "cell_type": "code",
   "execution_count": 24,
   "id": "84c89b8b",
   "metadata": {},
   "outputs": [
    {
     "data": {
      "text/latex": [
       "$\\displaystyle 2 \\sqrt{3}$"
      ],
      "text/plain": [
       "2*sqrt(3)"
      ]
     },
     "execution_count": 24,
     "metadata": {},
     "output_type": "execute_result"
    }
   ],
   "source": [
    "a = 2\n",
    "b = 3\n",
    "1/(a**3+b**2)\n",
    "#expr.evalf(2,subs={a:2, b:3})\n",
    "x = 12 \n",
    "sqrt(x)"
   ]
  },
  {
   "cell_type": "markdown",
   "id": "bb15bc88",
   "metadata": {},
   "source": [
    "De forma simbolica represente la siguiente expresión:\n",
    "$$\n",
    "\\frac{u^2-3w}{4v^3 - 8 \\sqrt{w+1}}\n",
    "$$\n",
    "y despues evalue para\n",
    "$$\n",
    "u = 10\\\\\n",
    "v = -5\\\\\n",
    "w = 8\n",
    "$$"
   ]
  },
  {
   "cell_type": "markdown",
   "id": "57e12ec4",
   "metadata": {},
   "source": [
    "SymPy es capaz de ejecutar potentes manipulaciones algebráicas. Echaremos un vistazo a algunas de las más usadas: expandir y simplificar."
   ]
  },
  {
   "cell_type": "markdown",
   "id": "1fae571f",
   "metadata": {},
   "source": [
    "### Expandir\n",
    "Para expandir una expresión algebráica. Tratará de expandir las potencias y multiplicaciones"
   ]
  },
  {
   "cell_type": "code",
   "execution_count": 25,
   "id": "9c005297",
   "metadata": {},
   "outputs": [],
   "source": [
    "x = Symbol('x')\n",
    "y = Symbol('y')"
   ]
  },
  {
   "cell_type": "markdown",
   "id": "b9e6ce97",
   "metadata": {},
   "source": [
    "Expandir la función $(x+3)^3$"
   ]
  },
  {
   "cell_type": "code",
   "execution_count": 26,
   "id": "6183f420",
   "metadata": {},
   "outputs": [
    {
     "data": {
      "text/latex": [
       "$\\displaystyle x^{3} + 9 x^{2} + 27 x + 27$"
      ],
      "text/plain": [
       "x**3 + 9*x**2 + 27*x + 27"
      ]
     },
     "execution_count": 26,
     "metadata": {},
     "output_type": "execute_result"
    }
   ],
   "source": [
    "expand((x+3)**3)"
   ]
  },
  {
   "cell_type": "markdown",
   "id": "d6f34573",
   "metadata": {},
   "source": [
    "Se pueden usar diferentes opciones a partir de palabras clave `keywords`"
   ]
  },
  {
   "cell_type": "code",
   "execution_count": 27,
   "id": "3ed65741",
   "metadata": {},
   "outputs": [
    {
     "data": {
      "text/latex": [
       "$\\displaystyle \\operatorname{re}{\\left(x\\right)} + \\operatorname{re}{\\left(y\\right)} + i \\operatorname{im}{\\left(x\\right)} + i \\operatorname{im}{\\left(y\\right)}$"
      ],
      "text/plain": [
       "re(x) + re(y) + I*im(x) + I*im(y)"
      ]
     },
     "execution_count": 27,
     "metadata": {},
     "output_type": "execute_result"
    }
   ],
   "source": [
    "expand(x+y, complex=True)"
   ]
  },
  {
   "cell_type": "code",
   "execution_count": 35,
   "id": "ad249132",
   "metadata": {},
   "outputs": [
    {
     "data": {
      "text/plain": [
       "(1+1j)"
      ]
     },
     "execution_count": 35,
     "metadata": {},
     "output_type": "execute_result"
    }
   ],
   "source": [
    "z = 1j + 1\n",
    "z"
   ]
  },
  {
   "cell_type": "code",
   "execution_count": 38,
   "id": "18b25401",
   "metadata": {
    "scrolled": true
   },
   "outputs": [
    {
     "data": {
      "text/latex": [
       "$\\displaystyle a^{5} + 5 a^{4} b - 5 a^{4} c + 10 a^{3} b^{2} - 20 a^{3} b c + 10 a^{3} c^{2} + 10 a^{2} b^{3} - 30 a^{2} b^{2} c + 30 a^{2} b c^{2} - 10 a^{2} c^{3} + 5 a b^{4} - 20 a b^{3} c + 30 a b^{2} c^{2} - 20 a b c^{3} + 5 a c^{4} + b^{5} - 5 b^{4} c + 10 b^{3} c^{2} - 10 b^{2} c^{3} + 5 b c^{4} - c^{5}$"
      ],
      "text/plain": [
       "a**5 + 5*a**4*b - 5*a**4*c + 10*a**3*b**2 - 20*a**3*b*c + 10*a**3*c**2 + 10*a**2*b**3 - 30*a**2*b**2*c + 30*a**2*b*c**2 - 10*a**2*c**3 + 5*a*b**4 - 20*a*b**3*c + 30*a*b**2*c**2 - 20*a*b*c**3 + 5*a*c**4 + b**5 - 5*b**4*c + 10*b**3*c**2 - 10*b**2*c**3 + 5*b*c**4 - c**5"
      ]
     },
     "execution_count": 38,
     "metadata": {},
     "output_type": "execute_result"
    }
   ],
   "source": [
    "expand((a+b-c)**5)"
   ]
  },
  {
   "cell_type": "markdown",
   "id": "c9ddd3c5",
   "metadata": {},
   "source": [
    "### Simplificación\n",
    "Usa simplify si quieres transformar una expresión en algo más sencillo"
   ]
  },
  {
   "cell_type": "markdown",
   "id": "eb6b1299",
   "metadata": {},
   "source": [
    "Simplificar $\\frac{x+xy}{x}$"
   ]
  },
  {
   "cell_type": "code",
   "execution_count": 43,
   "id": "821ca58a",
   "metadata": {},
   "outputs": [
    {
     "data": {
      "text/latex": [
       "$\\displaystyle \\frac{x y + x}{x}$"
      ],
      "text/plain": [
       "(x*y + x)/x"
      ]
     },
     "execution_count": 43,
     "metadata": {},
     "output_type": "execute_result"
    }
   ],
   "source": [
    "x = Symbol('x')\n",
    "y = Symbol('y')\n",
    "exp = ((x+x*y)/x)\n",
    "exp"
   ]
  },
  {
   "cell_type": "code",
   "execution_count": 42,
   "id": "ceb843b5",
   "metadata": {},
   "outputs": [
    {
     "data": {
      "text/latex": [
       "$\\displaystyle y + 1$"
      ],
      "text/plain": [
       "y + 1"
      ]
     },
     "execution_count": 42,
     "metadata": {},
     "output_type": "execute_result"
    }
   ],
   "source": [
    "simplify(exp)"
   ]
  },
  {
   "cell_type": "markdown",
   "id": "627b42b7",
   "metadata": {},
   "source": [
    "Simplificación es un término vago, es por ello que existen alternativas más precisas que simplify: powsimp (simplificación de exponentes), trigsimp (para expresiones trigonométricas) , logcombine, radsimp, together."
   ]
  },
  {
   "cell_type": "code",
   "execution_count": 44,
   "id": "4cce3a7f",
   "metadata": {},
   "outputs": [],
   "source": [
    "a = Symbol('a')\n",
    "b = Symbol('b')\n",
    "c = Symbol('c')\n",
    "d = Symbol('d')\n",
    "z = Symbol('z')"
   ]
  },
  {
   "cell_type": "markdown",
   "id": "c5ca7c3d",
   "metadata": {},
   "source": [
    "De la siguiente expresión, despeje `a`\n",
    "\n",
    "$d = \\frac{3a-4b}{2c}$"
   ]
  },
  {
   "cell_type": "code",
   "execution_count": 56,
   "id": "f688e5dc",
   "metadata": {},
   "outputs": [
    {
     "data": {
      "text/latex": [
       "$\\displaystyle \\frac{4 b}{3} + \\frac{2 c d}{3}$"
      ],
      "text/plain": [
       "4*b/3 + 2*c*d/3"
      ]
     },
     "execution_count": 56,
     "metadata": {},
     "output_type": "execute_result"
    }
   ],
   "source": [
    "sol = solve(-d + (3*a-4*b)/(2*c),a)\n",
    "sol[0]"
   ]
  },
  {
   "cell_type": "markdown",
   "id": "d32e6ce7",
   "metadata": {},
   "source": [
    "De la siguiente expresión, despeje `z`:\n",
    "\n",
    "$y = \\sqrt{\\frac{2x+3z}{8}}$"
   ]
  },
  {
   "cell_type": "code",
   "execution_count": 59,
   "id": "84a7a25f",
   "metadata": {},
   "outputs": [
    {
     "data": {
      "text/latex": [
       "$\\displaystyle - \\frac{2 x}{3} + \\frac{8 y^{2}}{3}$"
      ],
      "text/plain": [
       "-2*x/3 + 8*y**2/3"
      ]
     },
     "execution_count": 59,
     "metadata": {},
     "output_type": "execute_result"
    }
   ],
   "source": [
    "sol = solve(-y + sqrt((2*x+3*z)/8),z)\n",
    "sol[0]"
   ]
  },
  {
   "cell_type": "markdown",
   "id": "59fdfef6",
   "metadata": {},
   "source": [
    "## Sistemas de ecuaciones"
   ]
  },
  {
   "cell_type": "markdown",
   "id": "db333bfd",
   "metadata": {},
   "source": [
    "$$\n",
    "x + 5y = 2\n",
    "\\\\\n",
    "-3x + 6y = 15\n",
    "$$"
   ]
  },
  {
   "cell_type": "code",
   "execution_count": 61,
   "id": "9e5e11fa",
   "metadata": {},
   "outputs": [
    {
     "data": {
      "text/plain": [
       "{x: -3, y: 1}"
      ]
     },
     "execution_count": 61,
     "metadata": {},
     "output_type": "execute_result"
    }
   ],
   "source": [
    "from sympy import *\n",
    "x = Symbol('x')\n",
    "y = Symbol('y')\n",
    "\n",
    "solve([x + 5*y -2, -3*x + 6*y -15], [x,y])"
   ]
  },
  {
   "cell_type": "code",
   "execution_count": 62,
   "id": "366648dc",
   "metadata": {},
   "outputs": [],
   "source": [
    "a = Symbol('a')\n",
    "b = Symbol('b')\n",
    "c = Symbol('c')"
   ]
  },
  {
   "cell_type": "markdown",
   "id": "59c4014b",
   "metadata": {},
   "source": [
    "$$\n",
    "2a+b-3c = 7\n",
    "\\\\\n",
    "5a-4b+c = -19\n",
    "\\\\\n",
    "a-b-4c = 4\n",
    "$$"
   ]
  },
  {
   "cell_type": "code",
   "execution_count": 65,
   "id": "1c5b33fa",
   "metadata": {},
   "outputs": [
    {
     "data": {
      "text/plain": [
       "{a: -1, b: 3, c: -2}"
      ]
     },
     "execution_count": 65,
     "metadata": {},
     "output_type": "execute_result"
    }
   ],
   "source": [
    "solve([2*a + b -3*c -7,5*a - 4*b + c + 19, a - b - 4*c - 4 ], [a,b,c])"
   ]
  },
  {
   "cell_type": "markdown",
   "id": "4a5d3504",
   "metadata": {},
   "source": [
    "Otra alternativa, en el caso de ecuaciones polinómicas, es factor. Devuelve el polinomio factorizado en términos irreducibles y es capaz de calcular la factorización sobre varios dominios"
   ]
  },
  {
   "cell_type": "code",
   "execution_count": 66,
   "id": "8554b59e",
   "metadata": {},
   "outputs": [
    {
     "data": {
      "text/latex": [
       "$\\displaystyle x^{4} - 3 x^{2} + 1$"
      ],
      "text/plain": [
       "x**4 - 3*x**2 + 1"
      ]
     },
     "execution_count": 66,
     "metadata": {},
     "output_type": "execute_result"
    }
   ],
   "source": [
    "f = x**4 - 3*x**2 + 1\n",
    "f"
   ]
  },
  {
   "cell_type": "code",
   "execution_count": 67,
   "id": "a0787545",
   "metadata": {},
   "outputs": [
    {
     "data": {
      "text/latex": [
       "$\\displaystyle \\left(x^{2} - x - 1\\right) \\left(x^{2} + x - 1\\right)$"
      ],
      "text/plain": [
       "(x**2 - x - 1)*(x**2 + x - 1)"
      ]
     },
     "execution_count": 67,
     "metadata": {},
     "output_type": "execute_result"
    }
   ],
   "source": [
    "factor(f)"
   ]
  },
  {
   "cell_type": "code",
   "execution_count": null,
   "id": "f0e8af2e",
   "metadata": {},
   "outputs": [],
   "source": []
  }
 ],
 "metadata": {
  "kernelspec": {
   "display_name": "Python 3 (ipykernel)",
   "language": "python",
   "name": "python3"
  },
  "language_info": {
   "codemirror_mode": {
    "name": "ipython",
    "version": 3
   },
   "file_extension": ".py",
   "mimetype": "text/x-python",
   "name": "python",
   "nbconvert_exporter": "python",
   "pygments_lexer": "ipython3",
   "version": "3.9.13"
  }
 },
 "nbformat": 4,
 "nbformat_minor": 5
}
