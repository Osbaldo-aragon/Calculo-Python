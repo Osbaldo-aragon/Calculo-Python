{
 "cells": [
  {
   "cell_type": "markdown",
   "id": "380c770f",
   "metadata": {},
   "source": [
    "# <div style=\"text-align: center\">CURSO DE MATEMÁTICAS CON PYTHON</div>\n",
    "## <div style=\"text-align: center\">Ejercicio 3: Operadores Básicos en Python</div>\n",
    "### <div style=\"text-align: center\">Elaborado por: Osbaldo Aragón, 09/ene/2023</div>"
   ]
  },
  {
   "cell_type": "markdown",
   "id": "aa514d71",
   "metadata": {},
   "source": [
    "### Operadores Aritméticos"
   ]
  },
  {
   "cell_type": "markdown",
   "id": "aa3f646b",
   "metadata": {},
   "source": [
    "Un operador aritmético toma dos operandos como entrada, realiza un cálculo y devuelve el resultado.\n",
    "Considera la expresión, `a = 2 + 3`. Aquí, `2` y  `3` son los operandos y  `+` es el _operador aritmético_. El resultado de la operación se almacena en la variable `a`"
   ]
  },
  {
   "cell_type": "markdown",
   "id": "3b2a91b3",
   "metadata": {},
   "source": [
    "| OPERADOR | DESCRIPCIÓN | USO |\n",
    "|:--------:|:-----------:|:---:|\n",
    "| + | Realiza Adición entre los operandos | 12 + 3 = 15 |\n",
    "| - | Realiza Substracción entre los operandos | 12 - 3 = 9 |\n",
    "| * | Realiza Multiplicación entre los operandos | 12 * 3 = 36 |\n",
    "| / | Realiza División entre los operandos | 12 / 3 = 4 |\n",
    "| % | Realiza un módulo entre los operandos | 16 % 3 = 1 |\n",
    "| ** | Realiza la potencia de los operandos | 12 ** 3 = 1728 |\n",
    "| // | Realiza la división con resultado de número entero | 18 // 5 = 3 |"
   ]
  },
  {
   "cell_type": "markdown",
   "id": "a4fd5783",
   "metadata": {},
   "source": [
    "**Nota:** Para obtener el resultado en tipo flotante, uno de los operandos también debe ser de tipo flotante."
   ]
  },
  {
   "cell_type": "markdown",
   "id": "c5437249",
   "metadata": {},
   "source": [
    "### Operadores Relacionales"
   ]
  },
  {
   "cell_type": "markdown",
   "id": "2af3ab58",
   "metadata": {},
   "source": [
    "Un operador relacional se emplea para comparar y establecer la relación entre ellos. Devuelve un valor booleano `true` o `false` basado en la condición."
   ]
  },
  {
   "cell_type": "markdown",
   "id": "ab78faa1",
   "metadata": {},
   "source": [
    "| OPERADOR | DESCRIPCIÓN | USO |\n",
    "|:--------:|:-----------:|:---:|\n",
    "| > | Devuelve True si el operador de la izquierda es mayor que el operador de la derecha | 12 > 3 devuelve True |\n",
    "| < | Devuelve True si el operador de la derecha es mayor que el operador de la izquierda | 12 < 3 devuelve False |\n",
    "| == | Devuelve True si ambos operandos son iguales |12 == 3 devuelve False |\n",
    "| >= | Devuelve True si el operador de la izquierda es mayor o igual que el operador de la derecha | 12 >= 3 devuelve True |\n",
    "| <= | Devuelve True si el operador de la derecha es mayor o igual que el operador de la izquierda | 12 <= 3 devuelve False |\n",
    "| != | Devuelve True si ambos operandos no son iguales | 12 != 3 devuelve True |"
   ]
  },
  {
   "cell_type": "markdown",
   "id": "4c3363d7",
   "metadata": {},
   "source": [
    "### Operadores de Asignación\n",
    "\n",
    "Se utiliza un operador de asignación para asignar valores a una variable. Esto generalmente se combina con otros operadores (como aritmética, bit a bit) donde la operación se realiza en los operandos y el resultado se asigna al operando izquierdo.\n",
    "\n",
    "Considera los siguientes ejemplos,\n",
    "\n",
    "`a = 18` Aquí `=` es un operador de asignación, y el resultado se almacena en la variable `a`.\n",
    "\n",
    "`a + = 10` Aquí `+=` es un operador de asignación, y el resultado se almacena en la variable `a`. Es lo mismo que `a = a + 10`."
   ]
  },
  {
   "cell_type": "markdown",
   "id": "4e7f8cc1",
   "metadata": {},
   "source": [
    "| OPERADOR | DESCRIPCIÓN |\n",
    "|:--------:|:-----------:|\n",
    "| `=` | `a = 5`. El valor 5 es asignado a la variable a |\n",
    "| `+=` | `a += 5` es equivalente a `a = a + 5` |\n",
    "| `-=` | `a -= 5` es equivalente a `a = a - 5` |\n",
    "| `*=` | `a *= 3` es equivalente a `a = a*3` |\n",
    "| `/=` | `a /= 3` es equivalente a `a = a / 3` |\n",
    "| `%=` | `a %= 3` es equivalente a `a = a % 3` |\n",
    "| `**=` | `a **= 3` es equivalente a `a = a**3` |\n",
    "| `//=` | `a //= 3` es equivalente a `a = a//3` |\n",
    "| `&=` | `a &= 3` es equivalente a `a = a & 3` |\n",
    "| `^=` | `a ^= 3` es equivalente a `a = a ^ 3` |\n",
    "| `>>=` | `a >>= 3` es equivalente a `a = a >> 3` |\n",
    "| `<<=` | `a <<= 3` es equivalente a `a = a << 3` |"
   ]
  },
  {
   "cell_type": "markdown",
   "id": "41c066d6",
   "metadata": {},
   "source": [
    "### Ejemplos\n",
    "Algunos ejemplos del uso de operadores:"
   ]
  },
  {
   "cell_type": "code",
   "execution_count": 1,
   "id": "7781cf1c",
   "metadata": {},
   "outputs": [],
   "source": [
    "x = 3\n",
    "y = 2\n",
    "z = -1"
   ]
  },
  {
   "cell_type": "code",
   "execution_count": 5,
   "id": "f67c6115",
   "metadata": {},
   "outputs": [
    {
     "name": "stdout",
     "output_type": "stream",
     "text": [
      "x =  3 unidades ademas y = 2\n",
      "y =  2 °\n",
      "z =  -1 mm\n"
     ]
    }
   ],
   "source": [
    "print(\"x = \", x, \"unidades ademas y =\", y)\n",
    "print(\"y = \", y, \"°\")\n",
    "print(\"z = \", z, \"mm\")"
   ]
  },
  {
   "cell_type": "code",
   "execution_count": 6,
   "id": "d4ddd944",
   "metadata": {
    "scrolled": true
   },
   "outputs": [
    {
     "name": "stdout",
     "output_type": "stream",
     "text": [
      "x =  3 y =  2  z =  -1\n"
     ]
    }
   ],
   "source": [
    "print(\"x = \", x, \"y = \", y, \" z = \", z)"
   ]
  },
  {
   "cell_type": "code",
   "execution_count": 11,
   "id": "4cd4240c",
   "metadata": {
    "scrolled": true
   },
   "outputs": [
    {
     "data": {
      "text/plain": [
       "4"
      ]
     },
     "execution_count": 11,
     "metadata": {},
     "output_type": "execute_result"
    }
   ],
   "source": [
    "x + y + z"
   ]
  },
  {
   "cell_type": "markdown",
   "id": "14be7c07",
   "metadata": {},
   "source": [
    "$z^2 + 2x$"
   ]
  },
  {
   "cell_type": "code",
   "execution_count": 16,
   "id": "3e80c391",
   "metadata": {},
   "outputs": [
    {
     "data": {
      "text/plain": [
       "7"
      ]
     },
     "execution_count": 16,
     "metadata": {},
     "output_type": "execute_result"
    }
   ],
   "source": [
    "z**2 + 2*x"
   ]
  },
  {
   "cell_type": "code",
   "execution_count": 21,
   "id": "5be5656d",
   "metadata": {
    "scrolled": true
   },
   "outputs": [
    {
     "data": {
      "text/plain": [
       "1.5"
      ]
     },
     "execution_count": 21,
     "metadata": {},
     "output_type": "execute_result"
    }
   ],
   "source": [
    "x/2\n",
    "# Comentario"
   ]
  },
  {
   "cell_type": "code",
   "execution_count": 19,
   "id": "dd15b317",
   "metadata": {
    "scrolled": true
   },
   "outputs": [
    {
     "data": {
      "text/plain": [
       "1"
      ]
     },
     "execution_count": 19,
     "metadata": {},
     "output_type": "execute_result"
    }
   ],
   "source": [
    "x//2"
   ]
  },
  {
   "cell_type": "code",
   "execution_count": 22,
   "id": "c3fd59dc",
   "metadata": {},
   "outputs": [
    {
     "data": {
      "text/plain": [
       "1"
      ]
     },
     "execution_count": 22,
     "metadata": {},
     "output_type": "execute_result"
    }
   ],
   "source": [
    "x%2"
   ]
  },
  {
   "cell_type": "code",
   "execution_count": 26,
   "id": "42882b52",
   "metadata": {},
   "outputs": [
    {
     "data": {
      "text/plain": [
       "23"
      ]
     },
     "execution_count": 26,
     "metadata": {},
     "output_type": "execute_result"
    }
   ],
   "source": [
    "x += 5\n",
    "x"
   ]
  },
  {
   "cell_type": "markdown",
   "id": "33d21e96",
   "metadata": {},
   "source": [
    "## <font color='blue'>Actividad 3: Operaciones Aritméticas</font>"
   ]
  },
  {
   "cell_type": "markdown",
   "id": "05559ddb",
   "metadata": {},
   "source": [
    "a) $3\\left(\\frac{\\frac{5}{3} + 4}{\\frac{-2}{7}}\\right)=$   \n",
    "<br/>\n",
    "b) $4^3-\\left(\\frac{-2}{3}\\right)=$\n",
    "<br/><br/>\n",
    "c) $(-1)^4 + \\frac{7}{8} - 100$\n",
    "<br/><br/>\n",
    "d) $\\sqrt[3]{81}\\sqrt{64}+3^{^3/_7}-\\frac{2^5}{2}$\n",
    "<br/><br/>\n",
    "e) $  1 + \\cfrac{1}{2 + \\cfrac{1}{3 + \\cfrac{1}{4 + \\cfrac{1}{5} } } }$"
   ]
  }
 ],
 "metadata": {
  "kernelspec": {
   "display_name": "Python 3 (ipykernel)",
   "language": "python",
   "name": "python3"
  },
  "language_info": {
   "codemirror_mode": {
    "name": "ipython",
    "version": 3
   },
   "file_extension": ".py",
   "mimetype": "text/x-python",
   "name": "python",
   "nbconvert_exporter": "python",
   "pygments_lexer": "ipython3",
   "version": "3.9.13"
  }
 },
 "nbformat": 4,
 "nbformat_minor": 5
}
