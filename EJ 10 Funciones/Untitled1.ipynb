{
 "cells": [
  {
   "cell_type": "code",
   "execution_count": 39,
   "id": "5c873cd4",
   "metadata": {},
   "outputs": [
    {
     "name": "stdout",
     "output_type": "stream",
     "text": [
      "f(x) = \n"
     ]
    },
    {
     "data": {
      "text/latex": [
       "$\\displaystyle - 5 x^{8} + 7 x^{6} + 9 x^{3} + 14 x - 2$"
      ],
      "text/plain": [
       "-5*x**8 + 7*x**6 + 9*x**3 + 14*x - 2"
      ]
     },
     "execution_count": 39,
     "metadata": {},
     "output_type": "execute_result"
    }
   ],
   "source": [
    "import sympy as sp\n",
    "x = sp.Symbol('x')\n",
    "g = sp.Symbol('g')\n",
    "fx = 7*x**6 - 5*x**8 + 9*x**3+14*x-2\n",
    "print('f(x) = ')\n",
    "fx"
   ]
  },
  {
   "cell_type": "code",
   "execution_count": 28,
   "id": "d2d34b61",
   "metadata": {},
   "outputs": [
    {
     "data": {
      "text/latex": [
       "$\\displaystyle -2$"
      ],
      "text/plain": [
       "-2"
      ]
     },
     "execution_count": 28,
     "metadata": {},
     "output_type": "execute_result"
    }
   ],
   "source": [
    "a = 0\n",
    "\n",
    "fx.subs(x,0)\n"
   ]
  },
  {
   "cell_type": "code",
   "execution_count": 42,
   "id": "bcb82489",
   "metadata": {},
   "outputs": [],
   "source": [
    "def fx1(x):\n",
    "    return 7*x**6 - 5*x**8 + 9*x**3+14*x-2"
   ]
  },
  {
   "cell_type": "code",
   "execution_count": 43,
   "id": "26d074c0",
   "metadata": {},
   "outputs": [
    {
     "data": {
      "text/latex": [
       "$\\displaystyle 14 x - 5 \\left(x - 1\\right)^{8} + 7 \\left(x - 1\\right)^{6} + 9 \\left(x - 1\\right)^{3} - 16$"
      ],
      "text/plain": [
       "14*x - 5*(x - 1)**8 + 7*(x - 1)**6 + 9*(x - 1)**3 - 16"
      ]
     },
     "execution_count": 43,
     "metadata": {},
     "output_type": "execute_result"
    }
   ],
   "source": [
    "fx1(x-1)"
   ]
  },
  {
   "cell_type": "markdown",
   "id": "4df2feec",
   "metadata": {},
   "source": [
    "### ACTIVIDAD 10\n",
    "Graficar en el mismo plano las siguientes funciones\n",
    "\n",
    "$$\n",
    "f(x) = x^2-2x+3\\\\\n",
    "g(x) = -x^2 + 5x-2\\\\\n",
    "h(x) = x^3-1\n",
    "$$\n"
   ]
  },
  {
   "cell_type": "markdown",
   "id": "9fdb9d69",
   "metadata": {},
   "source": [
    "- Cada funcion en distinto color\n",
    "- Grid doble\n",
    "- Que se aprecien los minimos y máximos locales de las funciones (si existen)\n",
    "- Con etiqueta de cada funcion y etiqueta en los ejes\n"
   ]
  }
 ],
 "metadata": {
  "kernelspec": {
   "display_name": "Python 3 (ipykernel)",
   "language": "python",
   "name": "python3"
  },
  "language_info": {
   "codemirror_mode": {
    "name": "ipython",
    "version": 3
   },
   "file_extension": ".py",
   "mimetype": "text/x-python",
   "name": "python",
   "nbconvert_exporter": "python",
   "pygments_lexer": "ipython3",
   "version": "3.9.13"
  }
 },
 "nbformat": 4,
 "nbformat_minor": 5
}
