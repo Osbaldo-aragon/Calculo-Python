{
 "cells": [
  {
   "cell_type": "markdown",
   "id": "121857d9",
   "metadata": {},
   "source": [
    "## <div style=\"text-align: center\">INTRODUCCIÓN A LAS MATEMÁTICAS CON PYTHON</div>\n",
    "### <div style=\"text-align: center\">COMO RESULTADO DEL CURSO DE MATEMÁTICAS CON PYTHON</div>\n",
    "#### <div style=\"text-align: center\">INSTITUTO TECNOLÓGICO SUPERIOR DE LA REGIÓN DE LOS LLANOS</div>\n",
    "\n",
    "<div style=\"text-align: center\">Elaborado por: \n",
    "Marcial Saúl Garcia Chairez | Sergio A. Sifuentes Contreras | Daniel Cardona Ríos | Julio Cesar Ibarra Almeda | Pablo Ibarra | Jose Luis Rodriguez Alvarez | Pablo Cesar Ibarra Nava \n",
    "</div>\n"
   ]
  },
  {
   "cell_type": "markdown",
   "id": "5780e1d8",
   "metadata": {},
   "source": [
    "### Estilos de texto"
   ]
  },
  {
   "cell_type": "markdown",
   "id": "3c0cc410",
   "metadata": {},
   "source": [
    "Negritas colocar ** o __ antes y despues del texto que requiere resaltar\n",
    "> **Texto en negrita**"
   ]
  },
  {
   "cell_type": "markdown",
   "id": "71f367a1",
   "metadata": {},
   "source": [
    "Cursiva colocar * * o _ _ antes y despues del texto\n",
    "> _Texto en cursiva_"
   ]
  },
  {
   "cell_type": "markdown",
   "id": "e828492d",
   "metadata": {},
   "source": [
    "Cursiva en negrita y anidada ** ** y _ _ "
   ]
  },
  {
   "cell_type": "markdown",
   "id": "03f8cb6e",
   "metadata": {},
   "source": [
    "> **Este texto es _extremadamente_ importante**"
   ]
  },
  {
   "cell_type": "markdown",
   "id": "bcdcf989",
   "metadata": {},
   "source": [
    "Todo en negrita y cursiva *** **_"
   ]
  },
  {
   "cell_type": "markdown",
   "id": "a2b6e048",
   "metadata": {},
   "source": [
    "> **_Todo este texto es importante_**"
   ]
  },
  {
   "cell_type": "markdown",
   "id": "4c1714d0",
   "metadata": {},
   "source": [
    "Subscript, texto en subíndice"
   ]
  },
  {
   "cell_type": "markdown",
   "id": "d09835d1",
   "metadata": {},
   "source": [
    "> Se trata de un texto en <sub> subíndice </sub>"
   ]
  },
  {
   "cell_type": "markdown",
   "id": "88d0ecb7",
   "metadata": {},
   "source": [
    "Superscript, texto en superíndice"
   ]
  },
  {
   "cell_type": "markdown",
   "id": "060db657",
   "metadata": {},
   "source": [
    "> Se trata de texto en <sup>superíndice</sup>"
   ]
  },
  {
   "cell_type": "markdown",
   "id": "f53ef31c",
   "metadata": {},
   "source": [
    "### Código de entrecomillado"
   ]
  },
  {
   "cell_type": "markdown",
   "id": "4d1fb6a8",
   "metadata": {},
   "source": [
    "Puede entrecomillar/citar texto con >."
   ]
  },
  {
   "cell_type": "markdown",
   "id": "09058466",
   "metadata": {},
   "source": [
    "Este texto no está en cita\n",
    "> Este texto está en cita"
   ]
  },
  {
   "cell_type": "markdown",
   "id": "238a5858",
   "metadata": {},
   "source": [
    "Indicar un código o un comando dentro de un enunciado con comillas simples. ALT + }\n",
    "Usa `git` status para listar todos los documentos nuevos o modificados\n",
    "Para formatear código o texto en un bloque aparte, se usan comillas triples\n",
    "```\n",
    "git status\n",
    "git add\n",
    "git commit\n",
    "```"
   ]
  },
  {
   "cell_type": "markdown",
   "id": "a92927ac",
   "metadata": {},
   "source": [
    "Puede mostrar una imagen agregando ```<img src = \"URL\" width= \"ancho en pixeles\"</div>```\n",
    "<img src=\"./img.png\" width=\"200\"/> \n",
    "</div>"
   ]
  },
  {
   "cell_type": "markdown",
   "id": "bbf641da",
   "metadata": {},
   "source": [
    "Puede mostrar una imagen agregando ! y ajustar el texto alternativo en [ ]. Escriba el vínculo de la imagen entre paréntesis ().\n",
    "![Esto es una imagen local](./img.png)"
   ]
  },
  {
   "cell_type": "markdown",
   "id": "47c79b3a",
   "metadata": {},
   "source": [
    "### Listas"
   ]
  },
  {
   "cell_type": "markdown",
   "id": "56164222",
   "metadata": {},
   "source": [
    "Puedes crear una lista sin ordenar. Para ello, coloca -, * o + antes de una o más líneas de texto.\n",
    "- Perro\n",
    "* Gato\n",
    "+ Pájaro"
   ]
  },
  {
   "cell_type": "markdown",
   "id": "aeda1d90",
   "metadata": {},
   "source": [
    "Para ordenar tu lista, antecede cada línea con un número.\n",
    "1. Perro\n",
    "2. Gato\n",
    "3. Pájaro"
   ]
  },
  {
   "cell_type": "markdown",
   "id": "5189e40a",
   "metadata": {},
   "source": [
    "### Listas anidadas\n",
    "Puedes crear una lista anidada al dejar sangría en uno o más elementos de la lista debajo de otro elemento.\n",
    "1. Primer item\n",
    "    * primer lista anidada\n",
    "        * segunda lista anidada"
   ]
  },
  {
   "cell_type": "markdown",
   "id": "a162c1eb",
   "metadata": {},
   "source": [
    "### Listas de tareas\n",
    "Para crear una lista de tareas, debe añadir como prefijo un guion y espacio, seguido de [ ] a los elementos de la lista. Para marcar una tarea como completada, use [x].\n",
    "- [x] #739\n",
    "- [ ] https://github.com/octo-org/octo-repo/issues/740\n",
    "- [ ] tercer **item**"
   ]
  },
  {
   "cell_type": "markdown",
   "id": "c8fac040",
   "metadata": {},
   "source": [
    "### Creación de una tabla\n",
    "Puede crear tablas con canalizaciones | y guiones -. Los guiones se usan para crear cada encabezado de columna, mientras que las barras verticales separan cada columna. Debes incluir una línea en blanco antes de tu tabla para que se representen correctamente."
   ]
  },
  {
   "cell_type": "markdown",
   "id": "a7953feb",
   "metadata": {},
   "source": [
    "| Encabezado 1  | Encabezado 2  |\n",
    "| ------------- | ------------- |\n",
    "| Content Cell  | Content Cell  |\n",
    "| Content Cell  | Content Cell  |"
   ]
  },
  {
   "cell_type": "markdown",
   "id": "12be694f",
   "metadata": {},
   "source": [
    "Puede usar formatos, como vínculos, bloques de código insertados y estilos de texto en la tabla:"
   ]
  },
  {
   "cell_type": "markdown",
   "id": "b37601a4",
   "metadata": {},
   "source": [
    "| Command | Description |\n",
    "| --- | --- |\n",
    "| `git status` | List all *new or modified* files |\n",
    "| `git diff` | Show file differences that **haven't been** staged |"
   ]
  },
  {
   "cell_type": "markdown",
   "id": "20623653",
   "metadata": {},
   "source": [
    "Puede alinear el texto a la izquierda, a la derecha o en el centro de una columna al incluir dos puntos : a la izquierda, a la derecha o a ambos lados de los guiones en la línea de encabezamiento.\n",
    "\n",
    "| Left-aligned | Center-aligned | Right-aligned |\n",
    "| :---         |     :---:      |          ---: |\n",
    "| git status   | git status     | git status    |\n",
    "| git diff     | git diff       | git diff      |"
   ]
  },
  {
   "cell_type": "markdown",
   "id": "5ada4ef4",
   "metadata": {},
   "source": [
    "## ACTIVIDAD 1\n",
    "Elabore una tabla con los datos de los asistentes al curso, nombre, telefono, correo y direccion de alguna red social"
   ]
  }
 ],
 "metadata": {
  "kernelspec": {
   "display_name": "Python 3 (ipykernel)",
   "language": "python",
   "name": "python3"
  },
  "language_info": {
   "codemirror_mode": {
    "name": "ipython",
    "version": 3
   },
   "file_extension": ".py",
   "mimetype": "text/x-python",
   "name": "python",
   "nbconvert_exporter": "python",
   "pygments_lexer": "ipython3",
   "version": "3.9.13"
  }
 },
 "nbformat": 4,
 "nbformat_minor": 5
}
