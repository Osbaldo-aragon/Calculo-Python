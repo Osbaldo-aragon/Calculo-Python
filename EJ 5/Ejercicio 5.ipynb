{
 "cells": [
  {
   "cell_type": "markdown",
   "id": "49b073ca",
   "metadata": {},
   "source": [
    "# <div style=\"text-align: center\">CURSO DE MATEMÁTICAS CON PYTHON</div>\n",
    "## <div style=\"text-align: center\">SymPy: Manipulaciones algebraicas </div>\n",
    "### <div style=\"text-align: center\">Elaborado por: Osbaldo Aragón, 09/ene/2023</div>"
   ]
  },
  {
   "cell_type": "markdown",
   "id": "f73afcbf",
   "metadata": {},
   "source": [
    "SymPy es capaz de ejecutar potentes manipulaciones algebráicas. Echaremos un vistazo a algunas de las más usadas: **expandir y simplificar.**"
   ]
  },
  {
   "cell_type": "markdown",
   "id": "fc19b472",
   "metadata": {},
   "source": [
    "### Expandir"
   ]
  },
  {
   "cell_type": "markdown",
   "id": "313bed3d",
   "metadata": {},
   "source": [
    "Para expandir una expresión algebráica. Tratará de expandir las potencias y multiplicaciones"
   ]
  },
  {
   "cell_type": "code",
   "execution_count": 2,
   "id": "7b552dd6",
   "metadata": {},
   "outputs": [],
   "source": [
    "from sympy import *\n",
    "x = Symbol('x')\n",
    "y = Symbol('y')"
   ]
  },
  {
   "cell_type": "markdown",
   "id": "bcb5b4db",
   "metadata": {},
   "source": [
    "Expandir la función $(x+3)^3$"
   ]
  },
  {
   "cell_type": "code",
   "execution_count": 5,
   "id": "f960277d",
   "metadata": {},
   "outputs": [
    {
     "data": {
      "text/latex": [
       "$\\displaystyle x^{3} + 3 x^{2} y + 3 x y^{2} + y^{3}$"
      ],
      "text/plain": [
       "x**3 + 3*x**2*y + 3*x*y**2 + y**3"
      ]
     },
     "execution_count": 5,
     "metadata": {},
     "output_type": "execute_result"
    }
   ],
   "source": [
    "expand((x+y)**3)"
   ]
  },
  {
   "cell_type": "markdown",
   "id": "6d662fe4",
   "metadata": {},
   "source": [
    "Se pueden usar diferentes opciones a partir de palabras clave `keywords`"
   ]
  },
  {
   "cell_type": "code",
   "execution_count": 15,
   "id": "d80a00bb",
   "metadata": {
    "scrolled": true
   },
   "outputs": [
    {
     "data": {
      "text/latex": [
       "$\\displaystyle \\operatorname{re}{\\left(x\\right)} + \\operatorname{re}{\\left(y\\right)} + i \\operatorname{im}{\\left(x\\right)} + i \\operatorname{im}{\\left(y\\right)}$"
      ],
      "text/plain": [
       "re(x) + re(y) + I*im(x) + I*im(y)"
      ]
     },
     "execution_count": 15,
     "metadata": {},
     "output_type": "execute_result"
    }
   ],
   "source": [
    "expand(x+y, complex=True)"
   ]
  },
  {
   "cell_type": "code",
   "execution_count": 8,
   "id": "6e33632e",
   "metadata": {},
   "outputs": [
    {
     "data": {
      "text/latex": [
       "$\\displaystyle - \\sin{\\left(x \\right)} \\sin{\\left(y \\right)} + \\cos{\\left(x \\right)} \\cos{\\left(y \\right)}$"
      ],
      "text/plain": [
       "-sin(x)*sin(y) + cos(x)*cos(y)"
      ]
     },
     "execution_count": 8,
     "metadata": {},
     "output_type": "execute_result"
    }
   ],
   "source": [
    "expand(cos(x+y), trig = True)"
   ]
  },
  {
   "cell_type": "markdown",
   "id": "b58899c1",
   "metadata": {},
   "source": [
    "### Simplificación"
   ]
  },
  {
   "cell_type": "markdown",
   "id": "5b594c72",
   "metadata": {},
   "source": [
    "Usa simplify si quieres transformar una expresión en algo más sencillo"
   ]
  },
  {
   "cell_type": "markdown",
   "id": "0aaece4c",
   "metadata": {},
   "source": [
    "Simplificar $\\frac{x+xy}{x}$"
   ]
  },
  {
   "cell_type": "code",
   "execution_count": 26,
   "id": "5f5ba6cb",
   "metadata": {
    "scrolled": true
   },
   "outputs": [
    {
     "data": {
      "text/latex": [
       "$\\displaystyle y + 1$"
      ],
      "text/plain": [
       "y + 1"
      ]
     },
     "execution_count": 26,
     "metadata": {},
     "output_type": "execute_result"
    }
   ],
   "source": [
    "simplify((x+x*y)/x)"
   ]
  },
  {
   "cell_type": "markdown",
   "id": "ee059a1d",
   "metadata": {},
   "source": [
    "Simplificación es un término vago, es por ello que existen alternativas más precisas que simplify: powsimp (simplificación de exponentes), trigsimp (para expresiones trigonométricas) , logcombine, radsimp, together."
   ]
  },
  {
   "cell_type": "markdown",
   "id": "2ff1ddbe",
   "metadata": {},
   "source": [
    "### Despeje"
   ]
  },
  {
   "cell_type": "code",
   "execution_count": 9,
   "id": "995a5c9e",
   "metadata": {},
   "outputs": [],
   "source": [
    "a = Symbol('a')\n",
    "b = Symbol('b')\n",
    "c = Symbol('c')\n",
    "d = Symbol('d')\n",
    "z = Symbol('z')"
   ]
  },
  {
   "cell_type": "markdown",
   "id": "bd1c4a7b",
   "metadata": {},
   "source": [
    "De la siguiene expresión, despeje `a`\n",
    "\n",
    "$d = \\frac{3a-4b}{2c}$"
   ]
  },
  {
   "cell_type": "code",
   "execution_count": 12,
   "id": "87f2f47a",
   "metadata": {
    "scrolled": false
   },
   "outputs": [
    {
     "data": {
      "text/latex": [
       "$\\displaystyle \\frac{4 b}{3} + \\frac{2 c d}{3}$"
      ],
      "text/plain": [
       "4*b/3 + 2*c*d/3"
      ]
     },
     "execution_count": 12,
     "metadata": {},
     "output_type": "execute_result"
    }
   ],
   "source": [
    "sol = solve(-d + (3*a-4*b)/(2*c),a)\n",
    "sol[0]"
   ]
  },
  {
   "cell_type": "markdown",
   "id": "b8a164ff",
   "metadata": {},
   "source": [
    "De la siguiente expresión, despeje `z`:\n",
    "\n",
    "$y = \\sqrt{\\frac{2x+3z}{8}}$"
   ]
  },
  {
   "cell_type": "code",
   "execution_count": 23,
   "id": "780b5c00",
   "metadata": {
    "scrolled": false
   },
   "outputs": [
    {
     "data": {
      "text/latex": [
       "$\\displaystyle \\frac{y^{2}}{2} - \\frac{3 z^{2}}{16}$"
      ],
      "text/plain": [
       "y**2/2 - 3*z**2/16"
      ]
     },
     "execution_count": 23,
     "metadata": {},
     "output_type": "execute_result"
    }
   ],
   "source": [
    "sol = solve( -y + sqrt(2*x + 3*z**2/8),x)\n",
    "sol[0]"
   ]
  },
  {
   "cell_type": "code",
   "execution_count": 19,
   "id": "481e9e4d",
   "metadata": {},
   "outputs": [
    {
     "data": {
      "text/latex": [
       "$\\displaystyle \\frac{2 \\sqrt{- 12 x + 6 y^{2}}}{3}$"
      ],
      "text/plain": [
       "2*sqrt(-12*x + 6*y**2)/3"
      ]
     },
     "execution_count": 19,
     "metadata": {},
     "output_type": "execute_result"
    }
   ],
   "source": [
    "sol[1]"
   ]
  },
  {
   "cell_type": "markdown",
   "id": "aeea1413",
   "metadata": {},
   "source": [
    "De la siguiente expresión, despeje `n`"
   ]
  },
  {
   "cell_type": "markdown",
   "id": "90c1e336",
   "metadata": {},
   "source": [
    "$s = k^2(m-n^2)$"
   ]
  },
  {
   "cell_type": "code",
   "execution_count": 26,
   "id": "d25932ae",
   "metadata": {},
   "outputs": [
    {
     "data": {
      "text/latex": [
       "$\\displaystyle - \\frac{\\sqrt{k^{2} m - s}}{k}$"
      ],
      "text/plain": [
       "-sqrt(k**2*m - s)/k"
      ]
     },
     "execution_count": 26,
     "metadata": {},
     "output_type": "execute_result"
    }
   ],
   "source": [
    "n = Symbol('n')\n",
    "k = Symbol('k')\n",
    "m = Symbol('m')\n",
    "s = Symbol('s')\n",
    "sol = solve( -s + (k**2)*(m - n**2),n)\n",
    "sol[0]"
   ]
  },
  {
   "cell_type": "markdown",
   "id": "7031c60a",
   "metadata": {},
   "source": [
    "De la siguiente expresión, despeje `v`\n",
    "\n",
    "$t = \\sqrt{\\frac{v-E}{k}}$"
   ]
  },
  {
   "cell_type": "code",
   "execution_count": 28,
   "id": "f1974110",
   "metadata": {},
   "outputs": [
    {
     "data": {
      "text/latex": [
       "$\\displaystyle E + k t^{2}$"
      ],
      "text/plain": [
       "E + k*t**2"
      ]
     },
     "execution_count": 28,
     "metadata": {},
     "output_type": "execute_result"
    }
   ],
   "source": [
    "v = Symbol('v')\n",
    "E = Symbol('E')\n",
    "t = Symbol('t')\n",
    "sol = solve( b + sqrt((v-E)/k),v)\n",
    "sol[0]"
   ]
  },
  {
   "cell_type": "markdown",
   "id": "1faa2559",
   "metadata": {},
   "source": [
    "### Actividad 5\n",
    "<img src=\"./desp.jpg\" width=\"300\"/> \n",
    "</div>"
   ]
  },
  {
   "cell_type": "code",
   "execution_count": 37,
   "id": "c34ba06f",
   "metadata": {},
   "outputs": [
    {
     "data": {
      "text/latex": [
       "$\\displaystyle - F - \\frac{4 \\pi^{2} m x}{T^{2}}$"
      ],
      "text/plain": [
       "-F - 4*pi**2*m*x/T**2"
      ]
     },
     "execution_count": 37,
     "metadata": {},
     "output_type": "execute_result"
    }
   ],
   "source": [
    "F = Symbol('F')\n",
    "x = Symbol('x')\n",
    "m = Symbol('m')\n",
    "T = Symbol('T')\n",
    "exp = -F - (m*x)*(4*pi**2/T**2)\n",
    "exp"
   ]
  },
  {
   "cell_type": "code",
   "execution_count": 39,
   "id": "4fa6c45c",
   "metadata": {
    "scrolled": true
   },
   "outputs": [
    {
     "data": {
      "text/latex": [
       "$\\displaystyle - 2 \\pi \\sqrt{- \\frac{m x}{F}}$"
      ],
      "text/plain": [
       "-2*pi*sqrt(-m*x/F)"
      ]
     },
     "execution_count": 39,
     "metadata": {},
     "output_type": "execute_result"
    }
   ],
   "source": [
    "sol = solve(exp, T)\n",
    "sol[0]"
   ]
  },
  {
   "cell_type": "code",
   "execution_count": 40,
   "id": "f0dd7e26",
   "metadata": {
    "scrolled": true
   },
   "outputs": [
    {
     "data": {
      "text/latex": [
       "$\\displaystyle 2 \\pi \\sqrt{- \\frac{m x}{F}}$"
      ],
      "text/plain": [
       "2*pi*sqrt(-m*x/F)"
      ]
     },
     "execution_count": 40,
     "metadata": {},
     "output_type": "execute_result"
    }
   ],
   "source": [
    "sol[1]"
   ]
  },
  {
   "cell_type": "code",
   "execution_count": 14,
   "id": "86031972",
   "metadata": {},
   "outputs": [
    {
     "data": {
      "text/latex": [
       "$\\displaystyle q^{''}$"
      ],
      "text/plain": [
       "q^''"
      ]
     },
     "execution_count": 14,
     "metadata": {},
     "output_type": "execute_result"
    }
   ],
   "source": [
    "q_prim = Symbol('q^\\'')\n",
    "q_prim"
   ]
  }
 ],
 "metadata": {
  "kernelspec": {
   "display_name": "Python 3 (ipykernel)",
   "language": "python",
   "name": "python3"
  },
  "language_info": {
   "codemirror_mode": {
    "name": "ipython",
    "version": 3
   },
   "file_extension": ".py",
   "mimetype": "text/x-python",
   "name": "python",
   "nbconvert_exporter": "python",
   "pygments_lexer": "ipython3",
   "version": "3.9.13"
  }
 },
 "nbformat": 4,
 "nbformat_minor": 5
}
