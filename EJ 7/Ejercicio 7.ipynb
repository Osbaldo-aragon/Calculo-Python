{
 "cells": [
  {
   "cell_type": "markdown",
   "id": "f51eb55e",
   "metadata": {},
   "source": [
    "# <div style=\"text-align: center\">CURSO DE MATEMÁTICAS CON PYTHON</div>\n",
    "## <div style=\"text-align: center\">Ejercicio 7: Resolución de ecuaciones</div>\n",
    "### <div style=\"text-align: center\">Elaborado por: Osbaldo Aragón, 09/ene/2023</div>"
   ]
  },
  {
   "cell_type": "markdown",
   "id": "53b6b17f",
   "metadata": {},
   "source": [
    "SymPy es capaz de resolver ecuaciones algebraicas de una o varias variables"
   ]
  },
  {
   "cell_type": "code",
   "execution_count": 4,
   "id": "435839ab",
   "metadata": {},
   "outputs": [],
   "source": [
    "from sympy import *\n",
    "a = Symbol('a')\n",
    "b = Symbol('b')\n",
    "c = Symbol('c')\n",
    "d = Symbol('d')\n",
    "m = Symbol('m')\n",
    "x = Symbol('x')\n",
    "y = Symbol('y')"
   ]
  },
  {
   "cell_type": "markdown",
   "id": "34a2215f",
   "metadata": {},
   "source": [
    "$x^2 = 1$"
   ]
  },
  {
   "cell_type": "code",
   "execution_count": 4,
   "id": "0c0772dd",
   "metadata": {},
   "outputs": [
    {
     "data": {
      "text/plain": [
       "[-1, 1]"
      ]
     },
     "execution_count": 4,
     "metadata": {},
     "output_type": "execute_result"
    }
   ],
   "source": [
    "solve(x**2 - 1, x)"
   ]
  },
  {
   "cell_type": "markdown",
   "id": "50fa9be1",
   "metadata": {},
   "source": [
    "Es capaz de resolver múltiples ecuaciones respecto a múltiples variables (sistemas de ecuaciones) proporcionando una tupla como segundo argumento"
   ]
  },
  {
   "cell_type": "markdown",
   "id": "ab0ab99f",
   "metadata": {},
   "source": [
    "Sistema de ecuaciones:\n",
    "\n",
    "$$\n",
    "x + 5y = 2 \n",
    "\\\\\n",
    "-3x + 6y = 15\n",
    "$$"
   ]
  },
  {
   "cell_type": "code",
   "execution_count": 5,
   "id": "892fd14e",
   "metadata": {},
   "outputs": [
    {
     "data": {
      "text/plain": [
       "{x: -3, y: 1}"
      ]
     },
     "execution_count": 5,
     "metadata": {},
     "output_type": "execute_result"
    }
   ],
   "source": [
    "solve([x + 5*y - 2, -3*x + 6*y - 15], [x, y])"
   ]
  },
  {
   "cell_type": "markdown",
   "id": "b8cff026",
   "metadata": {},
   "source": [
    "$$\n",
    "2a+b-3c = 7\n",
    "\\\\\n",
    "5a-4b+c = -19\n",
    "\\\\\n",
    "a-b-4c = 4\n",
    "$$"
   ]
  },
  {
   "cell_type": "code",
   "execution_count": 13,
   "id": "e75e81aa",
   "metadata": {},
   "outputs": [
    {
     "data": {
      "text/plain": [
       "{W: -1, F: 3, th: -2}"
      ]
     },
     "execution_count": 13,
     "metadata": {},
     "output_type": "execute_result"
    }
   ],
   "source": [
    "solve([2*a + b - 3*c -7, 5*a - 4*b + c + 19, a - b - 4*c - 4], [a, b, c])"
   ]
  },
  {
   "cell_type": "markdown",
   "id": "586e1f9d",
   "metadata": {},
   "source": [
    "También tiene capacidad (limitada) de resolver ecuaciones transcendentales:\n",
    "\n",
    "$ e^x = -1$"
   ]
  },
  {
   "cell_type": "code",
   "execution_count": 7,
   "id": "e9c2b2c2",
   "metadata": {
    "scrolled": true
   },
   "outputs": [
    {
     "data": {
      "text/latex": [
       "$\\displaystyle i \\pi$"
      ],
      "text/plain": [
       "I*pi"
      ]
     },
     "execution_count": 7,
     "metadata": {},
     "output_type": "execute_result"
    }
   ],
   "source": [
    "sol = solve(exp(x) + 1, x)\n",
    "sol[0]"
   ]
  },
  {
   "cell_type": "markdown",
   "id": "f394866a",
   "metadata": {},
   "source": [
    "Otra alternativa, en el caso de ecuaciones polinómicas, es `factor`. Devuelve el polinomio factorizado en términos irreducibles y es capaz de calcular la factorización sobre varios dominios"
   ]
  },
  {
   "cell_type": "code",
   "execution_count": 5,
   "id": "42257343",
   "metadata": {},
   "outputs": [],
   "source": [
    "f = x**4 - 3*x**2 + 1"
   ]
  },
  {
   "cell_type": "code",
   "execution_count": 6,
   "id": "9301186f",
   "metadata": {},
   "outputs": [
    {
     "data": {
      "text/latex": [
       "$\\displaystyle \\left(x^{2} - x - 1\\right) \\left(x^{2} + x - 1\\right)$"
      ],
      "text/plain": [
       "(x**2 - x - 1)*(x**2 + x - 1)"
      ]
     },
     "execution_count": 6,
     "metadata": {},
     "output_type": "execute_result"
    }
   ],
   "source": [
    "factor(f)"
   ]
  },
  {
   "cell_type": "code",
   "execution_count": 12,
   "id": "b2305174",
   "metadata": {
    "scrolled": true
   },
   "outputs": [
    {
     "data": {
      "text/latex": [
       "$\\displaystyle \\left(x - 2\\right)^{2} \\left(x + 2\\right)^{2}$"
      ],
      "text/plain": [
       "(x - 2)**2*(x + 2)**2"
      ]
     },
     "execution_count": 12,
     "metadata": {},
     "output_type": "execute_result"
    }
   ],
   "source": [
    "factor(f, modulus = 5)"
   ]
  },
  {
   "cell_type": "code",
   "execution_count": null,
   "id": "999e8dbd",
   "metadata": {},
   "outputs": [],
   "source": []
  },
  {
   "cell_type": "markdown",
   "id": "9027df20",
   "metadata": {},
   "source": [
    "$$\n",
    "\\begin{align}\n",
    "\\begin{vmatrix}\n",
    "    30 & 20 & 20 \\\\\n",
    "    20 & 30 & 20 \\\\\n",
    "    10 & 10 & 10 \\\\\n",
    "\\end{vmatrix}\n",
    "\\begin{vmatrix}\n",
    "    340  \\\\\n",
    "    320  \\\\\n",
    "    140\n",
    "\\end{vmatrix}\n",
    "\\end{align}\n",
    "$$"
   ]
  },
  {
   "cell_type": "code",
   "execution_count": 5,
   "id": "229a6ca4",
   "metadata": {},
   "outputs": [],
   "source": [
    "from sympy import *\n",
    "W = Symbol('W')\n",
    "F = Symbol('F')\n",
    "th = Symbol('th')\n",
    "s = Symbol('s')"
   ]
  },
  {
   "cell_type": "code",
   "execution_count": 7,
   "id": "8be935a3",
   "metadata": {},
   "outputs": [
    {
     "data": {
      "text/latex": [
       "$\\displaystyle F s \\cos{\\left(th \\right)} - W$"
      ],
      "text/plain": [
       "F*s*cos(th) - W"
      ]
     },
     "execution_count": 7,
     "metadata": {},
     "output_type": "execute_result"
    }
   ],
   "source": [
    "exp = - W + (F*cos(th)*s)\n",
    "exp"
   ]
  },
  {
   "cell_type": "code",
   "execution_count": 9,
   "id": "f32318ae",
   "metadata": {},
   "outputs": [],
   "source": [
    "sol = solve(exp, th)"
   ]
  },
  {
   "cell_type": "code",
   "execution_count": 11,
   "id": "9f688ae5",
   "metadata": {},
   "outputs": [
    {
     "data": {
      "text/latex": [
       "$\\displaystyle \\operatorname{acos}{\\left(\\frac{W}{F s} \\right)}$"
      ],
      "text/plain": [
       "acos(W/(F*s))"
      ]
     },
     "execution_count": 11,
     "metadata": {},
     "output_type": "execute_result"
    }
   ],
   "source": [
    "sol[0] \n",
    "sol[1]"
   ]
  }
 ],
 "metadata": {
  "kernelspec": {
   "display_name": "Python 3 (ipykernel)",
   "language": "python",
   "name": "python3"
  },
  "language_info": {
   "codemirror_mode": {
    "name": "ipython",
    "version": 3
   },
   "file_extension": ".py",
   "mimetype": "text/x-python",
   "name": "python",
   "nbconvert_exporter": "python",
   "pygments_lexer": "ipython3",
   "version": "3.9.13"
  }
 },
 "nbformat": 4,
 "nbformat_minor": 5
}
