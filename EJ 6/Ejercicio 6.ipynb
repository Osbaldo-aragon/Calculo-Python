{
 "cells": [
  {
   "cell_type": "markdown",
   "id": "d77d0fab",
   "metadata": {},
   "source": [
    "# <div style=\"text-align: center\">CURSO DE MATEMÁTICAS CON PYTHON</div>\n",
    "## <div style=\"text-align: center\">SymPy: Factorización y expansión </div>\n",
    "### <div style=\"text-align: center\">Elaborado por: Osbaldo Aragón, 09/ene/2023</div>"
   ]
  },
  {
   "cell_type": "markdown",
   "id": "d70177f0",
   "metadata": {},
   "source": [
    "### Factorización\n",
    "\n",
    "FACTORICE LAS SIGUIENTES EXPRESIONES:\n",
    "\n",
    "1. $15c^3d^2+60c^2d^3$"
   ]
  },
  {
   "cell_type": "code",
   "execution_count": 1,
   "id": "600e3902",
   "metadata": {},
   "outputs": [],
   "source": [
    "from sympy import *\n",
    "a = Symbol('a')\n",
    "b = Symbol('b')\n",
    "c = Symbol('c')\n",
    "d = Symbol('d')\n",
    "m = Symbol('m')\n",
    "x = Symbol('x')\n",
    "y = Symbol('y')"
   ]
  },
  {
   "cell_type": "code",
   "execution_count": 2,
   "id": "b315c081",
   "metadata": {},
   "outputs": [
    {
     "data": {
      "text/latex": [
       "$\\displaystyle 15 c^{2} d^{2} \\left(c + 4 d\\right)$"
      ],
      "text/plain": [
       "15*c**2*d**2*(c + 4*d)"
      ]
     },
     "execution_count": 2,
     "metadata": {},
     "output_type": "execute_result"
    }
   ],
   "source": [
    "factor(15*c**3*d**2+60*c**2*d**3)"
   ]
  },
  {
   "cell_type": "markdown",
   "id": "4d1b3d0a",
   "metadata": {},
   "source": [
    "2. $3a^2b+6ab-5a^3b^2+8a^2bx+4ab^2m$"
   ]
  },
  {
   "cell_type": "code",
   "execution_count": 10,
   "id": "db29a680",
   "metadata": {},
   "outputs": [
    {
     "data": {
      "text/latex": [
       "$\\displaystyle a b \\left(- 5 a^{2} b + 8 a x + 3 a + 4 b m + 6\\right)$"
      ],
      "text/plain": [
       "a*b*(-5*a**2*b + 8*a*x + 3*a + 4*b*m + 6)"
      ]
     },
     "execution_count": 10,
     "metadata": {},
     "output_type": "execute_result"
    }
   ],
   "source": [
    "factor(3*a**2*b+6*a*b-5*a**3*b**2+8*a**2*b*x+4*a*b**2*m)"
   ]
  },
  {
   "cell_type": "markdown",
   "id": "672bd98f",
   "metadata": {},
   "source": [
    "3.  $x(a – 1) + y(a – 1) – a + 1$"
   ]
  },
  {
   "cell_type": "code",
   "execution_count": 14,
   "id": "d805b053",
   "metadata": {},
   "outputs": [
    {
     "data": {
      "text/latex": [
       "$\\displaystyle \\left(a - 1\\right) \\left(x + y - 1\\right)$"
      ],
      "text/plain": [
       "(a - 1)*(x + y - 1)"
      ]
     },
     "execution_count": 14,
     "metadata": {},
     "output_type": "execute_result"
    }
   ],
   "source": [
    "factor((a-1)*(x+y-1))"
   ]
  },
  {
   "cell_type": "markdown",
   "id": "2d5c182f",
   "metadata": {},
   "source": [
    "4. $a^2-2ab+b^2$"
   ]
  },
  {
   "cell_type": "code",
   "execution_count": 3,
   "id": "89fcf2c4",
   "metadata": {},
   "outputs": [
    {
     "data": {
      "text/latex": [
       "$\\displaystyle \\left(a - b\\right)^{2}$"
      ],
      "text/plain": [
       "(a - b)**2"
      ]
     },
     "execution_count": 3,
     "metadata": {},
     "output_type": "execute_result"
    }
   ],
   "source": [
    "factor(a**2-2*a*b+b**2)"
   ]
  },
  {
   "cell_type": "markdown",
   "id": "046e4020",
   "metadata": {},
   "source": [
    "5. $ 2x^2+ 3x - 2 $"
   ]
  },
  {
   "cell_type": "code",
   "execution_count": 5,
   "id": "2de826bb",
   "metadata": {},
   "outputs": [
    {
     "data": {
      "text/latex": [
       "$\\displaystyle \\left(x + 2\\right) \\left(2 x - 1\\right)$"
      ],
      "text/plain": [
       "(x + 2)*(2*x - 1)"
      ]
     },
     "execution_count": 5,
     "metadata": {},
     "output_type": "execute_result"
    }
   ],
   "source": [
    "factor(2*x**2+3*x-2)"
   ]
  },
  {
   "cell_type": "markdown",
   "id": "10e404c1",
   "metadata": {},
   "source": [
    "### Expansión"
   ]
  },
  {
   "cell_type": "markdown",
   "id": "73704f6c",
   "metadata": {},
   "source": [
    "1. Expanda la función:\n",
    "$(a-b)^2$"
   ]
  },
  {
   "cell_type": "code",
   "execution_count": 1,
   "id": "33eb5a0e",
   "metadata": {
    "scrolled": true
   },
   "outputs": [
    {
     "ename": "NameError",
     "evalue": "name 'expand' is not defined",
     "output_type": "error",
     "traceback": [
      "\u001b[1;31m---------------------------------------------------------------------------\u001b[0m",
      "\u001b[1;31mNameError\u001b[0m                                 Traceback (most recent call last)",
      "\u001b[1;32m~\\AppData\\Local\\Temp\\ipykernel_27096\\1395114711.py\u001b[0m in \u001b[0;36m<module>\u001b[1;34m\u001b[0m\n\u001b[1;32m----> 1\u001b[1;33m \u001b[0mexpand\u001b[0m\u001b[1;33m(\u001b[0m\u001b[1;33m(\u001b[0m\u001b[0ma\u001b[0m\u001b[1;33m-\u001b[0m\u001b[0mb\u001b[0m\u001b[1;33m)\u001b[0m\u001b[1;33m**\u001b[0m\u001b[1;36m2\u001b[0m\u001b[1;33m)\u001b[0m\u001b[1;33m\u001b[0m\u001b[1;33m\u001b[0m\u001b[0m\n\u001b[0m",
      "\u001b[1;31mNameError\u001b[0m: name 'expand' is not defined"
     ]
    }
   ],
   "source": [
    "expand((a-b)**2)"
   ]
  },
  {
   "cell_type": "markdown",
   "id": "a9d61a0c",
   "metadata": {},
   "source": [
    "2. Expanda la función:\n",
    "$(a+b)^3$"
   ]
  },
  {
   "cell_type": "code",
   "execution_count": 7,
   "id": "673fc2b7",
   "metadata": {},
   "outputs": [
    {
     "data": {
      "text/latex": [
       "$\\displaystyle a^{3} + 3 a^{2} b + 3 a b^{2} + b^{3}$"
      ],
      "text/plain": [
       "a**3 + 3*a**2*b + 3*a*b**2 + b**3"
      ]
     },
     "execution_count": 7,
     "metadata": {},
     "output_type": "execute_result"
    }
   ],
   "source": [
    "expand((a+b)**3)"
   ]
  },
  {
   "cell_type": "markdown",
   "id": "e8f327a2",
   "metadata": {},
   "source": [
    "## <font color='blue'>Actividad 6</font>\n",
    "\n",
    "Factorice los siguientes términos:\n",
    "<img src=\"ej_6.jpg\" width=\"400\"/> \n",
    "</div>"
   ]
  }
 ],
 "metadata": {
  "kernelspec": {
   "display_name": "Python 3 (ipykernel)",
   "language": "python",
   "name": "python3"
  },
  "language_info": {
   "codemirror_mode": {
    "name": "ipython",
    "version": 3
   },
   "file_extension": ".py",
   "mimetype": "text/x-python",
   "name": "python",
   "nbconvert_exporter": "python",
   "pygments_lexer": "ipython3",
   "version": "3.9.13"
  }
 },
 "nbformat": 4,
 "nbformat_minor": 5
}
