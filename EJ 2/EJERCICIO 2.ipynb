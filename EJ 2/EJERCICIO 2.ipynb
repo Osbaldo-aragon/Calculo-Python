{
 "cells": [
  {
   "cell_type": "markdown",
   "id": "8a6982af",
   "metadata": {},
   "source": [
    "# <div style=\"text-align: center; color: blue\">ACTIVIDAD 1.1 TÍTULO DE ACTIVIDAD</div>\n",
    "## <div style=\"text-align: center\">Ejercicio 2: Expresiones Matemáticas en Markdown y LaTeX</div>\n",
    "### <div style=\"text-align: center\">Elaborado por: Osbaldo Aragón, 06/ene/2023</div>"
   ]
  },
  {
   "cell_type": "markdown",
   "id": "f8aeae9e",
   "metadata": {},
   "source": [
    "### Escritura de expresiones insertadas"
   ]
  },
  {
   "cell_type": "markdown",
   "id": "c59ef030",
   "metadata": {},
   "source": [
    "Para incluir una expresión matemática insertada en el texto, delimita la expresión con un símbolo de dólar ($)."
   ]
  },
  {
   "cell_type": "markdown",
   "id": "7e3859ba",
   "metadata": {},
   "source": [
    "Esta sentencia usa delimitadores `$` para expresiones matemáticas en la misma línea de texto:  $\\sqrt{3x-1}+(1+x)^2$"
   ]
  },
  {
   "cell_type": "markdown",
   "id": "d71fe6b4",
   "metadata": {},
   "source": [
    "### Escritura de expresiones como bloques"
   ]
  },
  {
   "cell_type": "markdown",
   "id": "91529da2",
   "metadata": {},
   "source": [
    "Para agregar una expresión matemática como un bloque, empieza una línea nueva y delimita la expresión con dos símbolos de dólar ($$)."
   ]
  },
  {
   "cell_type": "markdown",
   "id": "33898368",
   "metadata": {},
   "source": [
    "### La inecuación Cauchy-Schwarz\n",
    "\n",
    "$$\\left( \\sum_{k=1}^n a_k b_k \\right)^2 \\leq \\left( \\sum_{k=1}^n a_k^2 \\right) \\left( \\sum_{k=1}^n b_k^2 \\right)$$"
   ]
  },
  {
   "cell_type": "markdown",
   "id": "fd8a2304",
   "metadata": {},
   "source": [
    "1. Para agregar espacio se usa `\\,`\n",
    "2. Para agregar una nueva linea se usa `\\\\`\n",
    "3. Para mostrar fracciones de usa `\\frac{arg 1}{arg 2}`\n",
    "4. Para potencias se usa `^{}`\n",
    "5. para subindices se utiliza `_{}`\n",
    "6. para potencias utilizamos `\\sqrt[n]{arg}` donde `[n]` es opcional."
   ]
  },
  {
   "cell_type": "markdown",
   "id": "af136d35",
   "metadata": {},
   "source": [
    "dado : $\\pi = 3.14$ , $\\alpha = \\frac{3\\pi}{4}\\, rad$\n",
    "$$\n",
    "\\omega = 2\\pi f \\\\\n",
    "f = \\frac{c}{\\lambda}\\\\\n",
    "\\lambda_0=\\theta^2+\\delta\\\\\n",
    "\\Delta\\lambda = \\frac{1}{\\lambda^2}\n",
    "$$"
   ]
  },
  {
   "cell_type": "markdown",
   "id": "c1cdc582",
   "metadata": {},
   "source": [
    "Para escribir letras griegas en mayúscula se coloca una diagonal inversa antes `\\`, por ejemplo: "
   ]
  },
  {
   "cell_type": "markdown",
   "id": "22e4d8c1",
   "metadata": {},
   "source": [
    "| Simbolo | Expresión | Simbolo | Expresión |\n",
    "|---------|-----------|---------|-----------|\n",
    "| $\\delta$ | `\\delta` | $\\Delta$ | `\\Delta` |\n",
    "| $\\omega$ | `\\omega` | $\\Omega$ | `\\Omega` |\n",
    "| $\\alpha$ | `\\alpha` | $\\beta$ | `\\beta` |\n",
    "| $\\theta$ | `\\theta` | $\\Theta$ | `\\Theta` |\n",
    "| $\\pi$ | `\\pi` | $\\Pi$ | `\\Pi` |"
   ]
  },
  {
   "cell_type": "markdown",
   "id": "b74fe6b2",
   "metadata": {},
   "source": [
    "Para expresiones trigonométricas se usa \\"
   ]
  },
  {
   "cell_type": "markdown",
   "id": "bc654923",
   "metadata": {},
   "source": [
    "$$\n",
    "\\sin(-\\alpha)=-\\sin(\\alpha)\\\\\n",
    "\\arccos(x)=\\arcsin(u)\\\\\n",
    "\\log_n(n)=1\\\\\n",
    "\\tan(x) = \\frac{\\sin(x)}{\\cos(x)}\n",
    "$$"
   ]
  },
  {
   "cell_type": "markdown",
   "id": "b0936ba5",
   "metadata": {},
   "source": [
    "### Otra simbología:\n",
    "\n",
    "Angulo Izquierdo : $\\langle$\n",
    "Angulo derecho : $\\rangle$\n",
    "\n",
    "Ángulo entre dos vectores u y v\t: $\\langle \\vec{u},\\vec{v}\\rangle$\t\n",
    "\n",
    "$$ \\vec{AB} \\, \\cdot \\, \\vec{CD} =0  \\Rightarrow  \\vec{AB} \\, \\perp\\, \\vec{CD}$$\n",
    "\n",
    "Conjuntos\n",
    "$$\\mathbb{N} \\subset \\mathbb{Z} \\subset \\mathbb{D} \\subset \\mathbb{Q} \\subset \\mathbb{R} \\subset \\mathbb{C}$$"
   ]
  },
  {
   "cell_type": "markdown",
   "id": "6622af5e",
   "metadata": {},
   "source": [
    "### Llaves\n",
    "\n",
    "Para definir una llave izquierda se usa: `\\left\\{`\n",
    "Para cerrar se usa: `\\right\\}`\n",
    "\n",
    "$$\n",
    "sign(x) = \\left\\{\n",
    "    \\begin{array}\\\\\n",
    "        1 & \\mbox{if } \\ x \\in \\mathbf{N}^* \\\\\n",
    "        0 & \\mbox{if } \\ x = 0 \\\\\n",
    "        -1 & \\mbox{else.}\n",
    "    \\end{array}\n",
    "\\right.\n",
    "$$\n",
    "\n",
    "$$\n",
    " \\left.\n",
    "    \\begin{array} \\\\\n",
    "        \\alpha^2 = \\sqrt5 \\\\\n",
    "        \\alpha \\geq 0 \n",
    "    \\end{array}\n",
    "\\right \\}=\\alpha = 5 \n",
    "$$"
   ]
  },
  {
   "cell_type": "markdown",
   "id": "9e7aede6",
   "metadata": {},
   "source": [
    "### Derivadas\n",
    "\n",
    "Para expresar derivadas se utiliza la siguiente sintaxis:\n",
    "\n",
    "| Sintaxis | Simbolo |\n",
    "|:-----:|:-----:|\n",
    "| Derivada de primer Orden | $$f'(x)$$ |\n",
    "| Derivada de orden _k_ | $$f^{k}(x)$$ |\n",
    "| Derivada parcial de primer orden | $$\\frac{\\partial f}{\\partial x} $$ |\n",
    "| Derivada parcial de orden _k_ | $$\\frac{\\partial^{k} f}{\\partial x^k} $$ |"
   ]
  },
  {
   "cell_type": "markdown",
   "id": "52b45c6c",
   "metadata": {},
   "source": [
    "### Limites\n",
    "\n",
    "Algunos ejemplos para expresar limites:\n",
    "\n",
    "Limite a +infinito\t: $$\\lim_{x \\to +\\infty} f(x)$$ \n",
    "Limite a -infinito\t: $$\\lim_{x \\to -\\infty} f(x)$$\t\n",
    "Limite a $\\alpha$  : $$\\lim_{x \\to \\alpha} f(x)$$\n",
    "\n",
    "Max : $$\\max_{x \\in [a,b]}f(x)$$\t\n",
    "Min : $$\\min_{x \\in [\\alpha,\\beta]}f(x)$$\t\n",
    "Sup : $$\\sup_{x \\in \\mathbb{R}}f(x)$$\t\n",
    "Inf : $$\\inf_{x > s}f(x)$$"
   ]
  },
  {
   "cell_type": "markdown",
   "id": "c381924a",
   "metadata": {},
   "source": [
    "### Sumatorias\n",
    "\n",
    "Sumatoria de 0 a +inf:\n",
    "\n",
    "$$\\sum_{j=0}^{+\\infty} A_{j}$$\n",
    "\n",
    "Doble sumatoria\n",
    "$$\\sum^k_{i=1}\\sum^{l+1}_{j=1}\\,A_i A_j$$\t\n",
    "\n",
    "\n",
    "Expresión de Taylor de $e^x$:\n",
    "$$ e^x  = \\sum_{k=0}^{n}\\, \\frac{x^k}{k!} + o(x^n) $$"
   ]
  },
  {
   "cell_type": "markdown",
   "id": "26f8fa89",
   "metadata": {},
   "source": [
    "### Integrales\n",
    "$$\\int f(x)dx$$\n",
    "\n",
    "Integral Simple:\n",
    "$$\\int_{a}^b f(x)dx$$\n",
    "\n",
    "Integral doble:\n",
    "$$\\int_{a}^b\\int_{c}^d f(x,y)\\,dxdy$$\t\n",
    "\n",
    "Integral triple:\n",
    "$$\\iiint$$\t\n",
    "\n",
    "Integral cuatruple:\n",
    "$$\\iiiint$$\t\n",
    "\n",
    "Integral multiple :\n",
    "$$\\idotsint$$\n",
    "\n",
    "Integral de contorno:\n",
    "$$\\oint$$"
   ]
  },
  {
   "cell_type": "markdown",
   "id": "fabec169",
   "metadata": {},
   "source": [
    "### Matrices\n",
    "\n",
    "Plana:\n",
    "\n",
    "\\begin{matrix}\n",
    "1 & 2 & 3\\\\\n",
    "a & b & c\\\\\n",
    "x & y & z\n",
    "\\end{matrix}\n",
    "\n",
    "En paréntesis:\n",
    "\\begin{pmatrix}\n",
    "1 & 2 & 3\\\\\n",
    "a & b & c\n",
    "\\end{pmatrix}\n",
    "\n",
    "Llaves:\n",
    "\\begin{Bmatrix}\n",
    "1 & 2 & 3\\\\\n",
    "a & b & c\n",
    "\\end{Bmatrix}\t\n",
    "\n",
    "Pipes:\n",
    "\\begin{vmatrix}\n",
    "1 & 2 & 3\\\\\n",
    "a & b & c\n",
    "\\end{vmatrix}\n",
    "\n",
    "Double pipes:\n",
    "\\begin{Vmatrix}\n",
    "1 & 2 & 3\\\\\n",
    "a & b & c\n",
    "\\end{Vmatrix}"
   ]
  },
  {
   "cell_type": "markdown",
   "id": "16a1453f",
   "metadata": {},
   "source": [
    "## <font color='blue'>Actividad 2</font>\n",
    "\n",
    "Reesciba las siguientes expresiones usando LaTex:\n",
    "1. <img src=\"M1.png\" width=\"250\"/> \n",
    "</div>"
   ]
  },
  {
   "cell_type": "markdown",
   "id": "ff009e9b",
   "metadata": {},
   "source": [
    "2. <img src=\"E2.png\" width=\"300\"/> \n",
    "</div>"
   ]
  },
  {
   "cell_type": "markdown",
   "id": "20197775",
   "metadata": {},
   "source": [
    "3. <img src=\"E3.png\" width=\"400\"/> \n",
    "</div>"
   ]
  },
  {
   "cell_type": "markdown",
   "id": "02247c01",
   "metadata": {},
   "source": [
    "$$\n",
    "R_x(\\theta) = \n",
    "\\begin{pmatrix}\n",
    "1 & 0 & 0\\\\\n",
    "0 & \\cos{\\theta} & -\\sin{\\theta}\\\\\n",
    "0 & \\sin{\\theta} & \\cos{\\theta}\n",
    "\\end{pmatrix}\n",
    "$$"
   ]
  },
  {
   "cell_type": "markdown",
   "id": "d759c8dd",
   "metadata": {},
   "source": [
    "### Ejercicio 3"
   ]
  },
  {
   "cell_type": "markdown",
   "id": "b1ce660e",
   "metadata": {},
   "source": [
    "$$\n",
    "\\int_{0}^2 x^2 dx = \\lim_{n \\to \\infty} \\sum_{i=1}^n f{(x_i)\\Delta x}\\\\\n",
    "= \\lim_{n \\to \\infty} \\left(\\frac{8}{3}+\\frac{4}{n}+\\frac{1}{6n^2}\\right)\\\\\n",
    "= \\lim_{n \\to \\infty} \\left(\\frac{8}{3}\\right)\n",
    " +\\lim_{n \\to \\infty} \\left(\\frac{4}{n}\\right)\n",
    " +\\lim_{n \\to \\infty} \\left(\\frac{1}{6n^2}\\right)\\\\\n",
    " = \\frac{8}{3} + 0 + 0 = \\frac{8}{3}\n",
    "$$"
   ]
  }
 ],
 "metadata": {
  "kernelspec": {
   "display_name": "Python 3 (ipykernel)",
   "language": "python",
   "name": "python3"
  },
  "language_info": {
   "codemirror_mode": {
    "name": "ipython",
    "version": 3
   },
   "file_extension": ".py",
   "mimetype": "text/x-python",
   "name": "python",
   "nbconvert_exporter": "python",
   "pygments_lexer": "ipython3",
   "version": "3.9.13"
  }
 },
 "nbformat": 4,
 "nbformat_minor": 5
}
