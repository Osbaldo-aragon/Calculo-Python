{
 "cells": [
  {
   "cell_type": "markdown",
   "id": "6425af86",
   "metadata": {},
   "source": [
    "# <div style=\"text-align: center\">CURSO DE MATEMÁTICAS CON PYTHON</div>\n",
    "## <div style=\"text-align: center\">Ejercicio 9: Inecuaciones</div>\n",
    "### <div style=\"text-align: center\">Elaborado por: Osbaldo Aragón, 12/ene/2023</div>"
   ]
  },
  {
   "cell_type": "code",
   "execution_count": 2,
   "id": "5bf0911f",
   "metadata": {},
   "outputs": [],
   "source": [
    "from sympy import *\n",
    "x = Symbol('x')"
   ]
  },
  {
   "cell_type": "markdown",
   "id": "d99e3251",
   "metadata": {},
   "source": [
    "### Inecuaciones"
   ]
  },
  {
   "cell_type": "markdown",
   "id": "3ceabc34",
   "metadata": {},
   "source": [
    "Resuelve la inecuación $x + 3 < 2$ se resuelve con el siguiente código"
   ]
  },
  {
   "cell_type": "code",
   "execution_count": 3,
   "id": "32ee32a0",
   "metadata": {
    "scrolled": true
   },
   "outputs": [
    {
     "data": {
      "text/latex": [
       "$\\displaystyle x + 3 < 2$"
      ],
      "text/plain": [
       "x + 3 < 2"
      ]
     },
     "execution_count": 3,
     "metadata": {},
     "output_type": "execute_result"
    }
   ],
   "source": [
    "expr = x+3 < 2\n",
    "expr"
   ]
  },
  {
   "cell_type": "markdown",
   "id": "15a09f75",
   "metadata": {},
   "source": [
    "Convertir expreción de lineal a polinomial, se resta la expreción izquierda a la derecha (despeje) y se convierte.  \n",
    "`expr.lhs` se refiere a la parte izquierda de la expreción, `expr.rhs` a la derecha\n"
   ]
  },
  {
   "cell_type": "code",
   "execution_count": 4,
   "id": "922c7613",
   "metadata": {},
   "outputs": [
    {
     "data": {
      "text/latex": [
       "$\\displaystyle \\operatorname{Poly}{\\left( x + 1, x, domain=\\mathbb{Z} \\right)}$"
      ],
      "text/plain": [
       "Poly(x + 1, x, domain='ZZ')"
      ]
     },
     "execution_count": 4,
     "metadata": {},
     "output_type": "execute_result"
    }
   ],
   "source": [
    "P1 = Poly(expr.lhs - expr.rhs)\n",
    "P1"
   ]
  },
  {
   "cell_type": "markdown",
   "id": "292e775d",
   "metadata": {},
   "source": [
    "`expr.rel_op` se refiere al operador relacional de la expreción en este caso `<`"
   ]
  },
  {
   "cell_type": "code",
   "execution_count": 12,
   "id": "d1e61dd6",
   "metadata": {},
   "outputs": [
    {
     "data": {
      "text/latex": [
       "$\\displaystyle \\left(-\\infty, -1\\right)$"
      ],
      "text/plain": [
       "Interval.open(-oo, -1)"
      ]
     },
     "execution_count": 12,
     "metadata": {},
     "output_type": "execute_result"
    }
   ],
   "source": [
    "Sol = solve_poly_inequality(P1,expr.rel_op)\n",
    "Sol[0]"
   ]
  },
  {
   "cell_type": "markdown",
   "id": "ff44b4ff",
   "metadata": {},
   "source": [
    "### Inecuaciones polinómicas"
   ]
  },
  {
   "cell_type": "markdown",
   "id": "9711f9af",
   "metadata": {},
   "source": [
    "Encuentre los valores de x que cumplen la inecuación $x^5+2x^4-3x^3<3x^3-3x^2$"
   ]
  },
  {
   "cell_type": "code",
   "execution_count": 25,
   "id": "67c59a8f",
   "metadata": {
    "scrolled": true
   },
   "outputs": [
    {
     "data": {
      "text/plain": [
       "3"
      ]
     },
     "execution_count": 25,
     "metadata": {},
     "output_type": "execute_result"
    }
   ],
   "source": [
    "expr = x**5+2*x**4-3*x**3<=3*x**3-3*x**2\n",
    "P2 = Poly(expr.lhs - expr.rhs)\n",
    "Sol = solve_poly_inequality(P2,expr.rel_op)\n",
    "len(Sol)"
   ]
  },
  {
   "cell_type": "code",
   "execution_count": 26,
   "id": "443dedd6",
   "metadata": {
    "scrolled": true
   },
   "outputs": [
    {
     "data": {
      "text/latex": [
       "$\\displaystyle \\left(-\\infty, - \\frac{\\sqrt{21}}{2} - \\frac{3}{2}\\right]$"
      ],
      "text/plain": [
       "Interval(-oo, -sqrt(21)/2 - 3/2)"
      ]
     },
     "execution_count": 26,
     "metadata": {},
     "output_type": "execute_result"
    }
   ],
   "source": [
    "Sol[0]"
   ]
  },
  {
   "cell_type": "code",
   "execution_count": 27,
   "id": "4c554ee7",
   "metadata": {},
   "outputs": [
    {
     "data": {
      "text/latex": [
       "$\\displaystyle \\left\\{0\\right\\}$"
      ],
      "text/plain": [
       "{0}"
      ]
     },
     "execution_count": 27,
     "metadata": {},
     "output_type": "execute_result"
    }
   ],
   "source": [
    "Sol[1]"
   ]
  },
  {
   "cell_type": "code",
   "execution_count": 28,
   "id": "99d61e7f",
   "metadata": {},
   "outputs": [
    {
     "data": {
      "text/latex": [
       "$\\displaystyle \\left[- \\frac{3}{2} + \\frac{\\sqrt{21}}{2}, 1\\right]$"
      ],
      "text/plain": [
       "Interval(-3/2 + sqrt(21)/2, 1)"
      ]
     },
     "execution_count": 28,
     "metadata": {},
     "output_type": "execute_result"
    }
   ],
   "source": [
    "Sol[2]"
   ]
  },
  {
   "cell_type": "markdown",
   "id": "15828d23",
   "metadata": {},
   "source": [
    "Encuentre los valores de `x` que cumplen la inecuación  $(x-4)(x+2)^2>0$"
   ]
  },
  {
   "cell_type": "code",
   "execution_count": 29,
   "id": "03a13b25",
   "metadata": {},
   "outputs": [
    {
     "data": {
      "text/plain": [
       "1"
      ]
     },
     "execution_count": 29,
     "metadata": {},
     "output_type": "execute_result"
    }
   ],
   "source": [
    "expr = (x-4)*(x+2)**2>0\n",
    "P3 = Poly(expr.lhs - expr.rhs)\n",
    "Sol = solve_poly_inequality(P3,expr.rel_op)\n",
    "len(Sol)"
   ]
  },
  {
   "cell_type": "code",
   "execution_count": 30,
   "id": "d874d0e7",
   "metadata": {},
   "outputs": [
    {
     "data": {
      "text/latex": [
       "$\\displaystyle \\left(4, \\infty\\right)$"
      ],
      "text/plain": [
       "Interval.open(4, oo)"
      ]
     },
     "execution_count": 30,
     "metadata": {},
     "output_type": "execute_result"
    }
   ],
   "source": [
    "Sol[0]"
   ]
  },
  {
   "cell_type": "markdown",
   "id": "0eea0c8d",
   "metadata": {},
   "source": [
    "### Inecuaciones Racionales"
   ]
  },
  {
   "cell_type": "code",
   "execution_count": 14,
   "id": "c286b0f1",
   "metadata": {},
   "outputs": [
    {
     "data": {
      "text/latex": [
       "$\\displaystyle \\frac{x + 1}{x + 2} > 0$"
      ],
      "text/plain": [
       "(x + 1)/(x + 2) > 0"
      ]
     },
     "execution_count": 14,
     "metadata": {},
     "output_type": "execute_result"
    }
   ],
   "source": [
    "expr = ((x+1)/(x+2))>0\n",
    "expr"
   ]
  },
  {
   "cell_type": "code",
   "execution_count": 16,
   "id": "f715158b",
   "metadata": {},
   "outputs": [
    {
     "data": {
      "text/latex": [
       "$\\displaystyle x + 1$"
      ],
      "text/plain": [
       "x + 1"
      ]
     },
     "execution_count": 16,
     "metadata": {},
     "output_type": "execute_result"
    }
   ],
   "source": [
    "numer, denom = expr.lhs.as_numer_denom()\n",
    "numer"
   ]
  },
  {
   "cell_type": "code",
   "execution_count": 17,
   "id": "db03d898",
   "metadata": {},
   "outputs": [
    {
     "data": {
      "text/latex": [
       "$\\displaystyle x + 2$"
      ],
      "text/plain": [
       "x + 2"
      ]
     },
     "execution_count": 17,
     "metadata": {},
     "output_type": "execute_result"
    }
   ],
   "source": [
    "denom"
   ]
  },
  {
   "cell_type": "code",
   "execution_count": 18,
   "id": "6f85f95b",
   "metadata": {},
   "outputs": [],
   "source": [
    "P1 = Poly(numer, x)\n",
    "P2 = Poly(denom, x)"
   ]
  },
  {
   "cell_type": "code",
   "execution_count": 26,
   "id": "b5a9fc2b",
   "metadata": {},
   "outputs": [
    {
     "data": {
      "text/latex": [
       "$\\displaystyle \\left(- \\frac{\\sqrt{21}}{2} - \\frac{3}{2}, -1\\right] \\cup \\left(- \\frac{3}{2} + \\frac{\\sqrt{21}}{2}, 1\\right)$"
      ],
      "text/plain": [
       "Union(Interval.open(-3/2 + sqrt(21)/2, 1), Interval.Lopen(-sqrt(21)/2 - 3/2, -1))"
      ]
     },
     "execution_count": 26,
     "metadata": {},
     "output_type": "execute_result"
    }
   ],
   "source": [
    "solve_rational_inequalities([[((P1,P2),expr.rel_op)]])"
   ]
  },
  {
   "cell_type": "markdown",
   "id": "c658ba75",
   "metadata": {},
   "source": [
    "### Inecuaciones con valor absoluto"
   ]
  },
  {
   "cell_type": "markdown",
   "id": "bce541a8",
   "metadata": {},
   "source": [
    "Resuelve la inecuación $|x-2|\\leq 1$\n",
    "la inecuación anterior es equivalente a $|x-2| - 1\\leq 0$ y se resuelve con el siguiente código"
   ]
  },
  {
   "cell_type": "code",
   "execution_count": 7,
   "id": "4548c648",
   "metadata": {},
   "outputs": [
    {
     "data": {
      "text/latex": [
       "$\\displaystyle 1 \\leq x \\wedge x \\leq 3$"
      ],
      "text/plain": [
       "(1 <= x) & (x <= 3)"
      ]
     },
     "execution_count": 7,
     "metadata": {},
     "output_type": "execute_result"
    }
   ],
   "source": [
    "reduce_abs_inequality(Abs(x-2)-1,'<=',x)"
   ]
  },
  {
   "cell_type": "markdown",
   "id": "6667bde6",
   "metadata": {},
   "source": [
    "Resuelve la inecuación $|x + 5| \\geq 3$\n",
    "la inecuación anterior es equivalente a $|x+5| - 3\\geq 0$ y se resuelve con el siguiente código"
   ]
  },
  {
   "cell_type": "code",
   "execution_count": 8,
   "id": "a6f21292",
   "metadata": {},
   "outputs": [
    {
     "data": {
      "text/latex": [
       "$\\displaystyle \\left(-2 \\leq x \\wedge x < \\infty\\right) \\vee \\left(x \\leq -8 \\wedge -\\infty < x\\right)$"
      ],
      "text/plain": [
       "((-2 <= x) & (x < oo)) | ((-oo < x) & (x <= -8))"
      ]
     },
     "execution_count": 8,
     "metadata": {},
     "output_type": "execute_result"
    }
   ],
   "source": [
    "reduce_abs_inequality(Abs(x+5)-3,'>=',x)"
   ]
  }
 ],
 "metadata": {
  "kernelspec": {
   "display_name": "Python 3 (ipykernel)",
   "language": "python",
   "name": "python3"
  },
  "language_info": {
   "codemirror_mode": {
    "name": "ipython",
    "version": 3
   },
   "file_extension": ".py",
   "mimetype": "text/x-python",
   "name": "python",
   "nbconvert_exporter": "python",
   "pygments_lexer": "ipython3",
   "version": "3.9.13"
  }
 },
 "nbformat": 4,
 "nbformat_minor": 5
}
