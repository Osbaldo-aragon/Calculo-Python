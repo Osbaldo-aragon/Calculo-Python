{
 "cells": [
  {
   "cell_type": "markdown",
   "id": "4a4c60c6",
   "metadata": {},
   "source": [
    "# <div style=\"text-align: center\">CURSO DE MATEMÁTICAS CON PYTHON</div>\n",
    "## <div style=\"text-align: center\">Ejercicio 8: Intervalos</div>\n",
    "### <div style=\"text-align: center\">Elaborado por: Osbaldo Aragón, 12/ene/2023</div>"
   ]
  },
  {
   "cell_type": "markdown",
   "id": "2fcfa723",
   "metadata": {},
   "source": [
    "En **SymPy** tenemos en principo dos clases o formas de definir \"conjuntos\", podemos definir conjuntos finitos con la clase `FiniteSet` o podemos usar o definir intervalos con la clase `Interval`.\n",
    "\n",
    "Para definir un intervalo en Python, debemos importar del módulo SymPy la función `Interval`. Esta instrucción representa un intervalo real como un conjunto. Solo podemos definir intervalos con puntos finales reales.\n",
    "\n",
    "Ojo! Si definimos el intervalo  $(a,b)$  tal que  $a>b$ , entonces Sympy nos retornará el conjunto vacío."
   ]
  },
  {
   "cell_type": "code",
   "execution_count": 3,
   "id": "c0465934",
   "metadata": {},
   "outputs": [],
   "source": [
    "from sympy import *"
   ]
  },
  {
   "cell_type": "markdown",
   "id": "08b0eb24",
   "metadata": {},
   "source": [
    "#### Intevalo abierto"
   ]
  },
  {
   "cell_type": "code",
   "execution_count": 6,
   "id": "a93a03e0",
   "metadata": {},
   "outputs": [
    {
     "data": {
      "text/latex": [
       "$\\displaystyle \\left(0, 2\\right)$"
      ],
      "text/plain": [
       "Interval.open(0, 2)"
      ]
     },
     "execution_count": 6,
     "metadata": {},
     "output_type": "execute_result"
    }
   ],
   "source": [
    "Interval.open(0, 2)"
   ]
  },
  {
   "cell_type": "markdown",
   "id": "82910933",
   "metadata": {},
   "source": [
    "#### Intervalo cerrado"
   ]
  },
  {
   "cell_type": "code",
   "execution_count": 27,
   "id": "9b9a0bfc",
   "metadata": {},
   "outputs": [
    {
     "data": {
      "text/latex": [
       "$\\displaystyle \\left[0, 2\\right]$"
      ],
      "text/plain": [
       "Interval(0, 2)"
      ]
     },
     "execution_count": 27,
     "metadata": {},
     "output_type": "execute_result"
    }
   ],
   "source": [
    "Interval(0, 2)"
   ]
  },
  {
   "cell_type": "markdown",
   "id": "5dc93f00",
   "metadata": {},
   "source": [
    "#### Intervalo cerrado/abierto por izquierda o derecha"
   ]
  },
  {
   "cell_type": "code",
   "execution_count": 29,
   "id": "5ff9ac67",
   "metadata": {},
   "outputs": [
    {
     "data": {
      "text/latex": [
       "$\\displaystyle \\left(0, 1\\right]$"
      ],
      "text/plain": [
       "Interval.Lopen(0, 1)"
      ]
     },
     "execution_count": 29,
     "metadata": {},
     "output_type": "execute_result"
    }
   ],
   "source": [
    "Interval.Lopen(0, 1)"
   ]
  },
  {
   "cell_type": "code",
   "execution_count": 30,
   "id": "5697ffff",
   "metadata": {},
   "outputs": [
    {
     "data": {
      "text/latex": [
       "$\\displaystyle \\left[0, 1\\right)$"
      ],
      "text/plain": [
       "Interval.Ropen(0, 1)"
      ]
     },
     "execution_count": 30,
     "metadata": {},
     "output_type": "execute_result"
    }
   ],
   "source": [
    "Interval.Ropen(0, 1)"
   ]
  },
  {
   "cell_type": "code",
   "execution_count": 18,
   "id": "450e3870",
   "metadata": {},
   "outputs": [
    {
     "data": {
      "text/latex": [
       "$\\displaystyle \\left(-\\infty, 3\\right]$"
      ],
      "text/plain": [
       "Interval(-oo, 3)"
      ]
     },
     "execution_count": 18,
     "metadata": {},
     "output_type": "execute_result"
    }
   ],
   "source": [
    "Interval(-oo, 3)"
   ]
  },
  {
   "cell_type": "markdown",
   "id": "b2db2005",
   "metadata": {},
   "source": [
    "#### Comprobar un valor dentro de un intervalo"
   ]
  },
  {
   "cell_type": "code",
   "execution_count": 19,
   "id": "ffa7297d",
   "metadata": {},
   "outputs": [
    {
     "data": {
      "text/plain": [
       "True"
      ]
     },
     "execution_count": 19,
     "metadata": {},
     "output_type": "execute_result"
    }
   ],
   "source": [
    "1 in Interval(0, 2)"
   ]
  },
  {
   "cell_type": "code",
   "execution_count": 20,
   "id": "3c2c2503",
   "metadata": {},
   "outputs": [
    {
     "data": {
      "text/plain": [
       "False"
      ]
     },
     "execution_count": 20,
     "metadata": {},
     "output_type": "execute_result"
    }
   ],
   "source": [
    "2.1 in Interval(0, 2)"
   ]
  },
  {
   "cell_type": "code",
   "execution_count": 21,
   "id": "5cd4be72",
   "metadata": {},
   "outputs": [
    {
     "data": {
      "text/plain": [
       "True"
      ]
     },
     "execution_count": 21,
     "metadata": {},
     "output_type": "execute_result"
    }
   ],
   "source": [
    "2 in Interval(0, 2)"
   ]
  },
  {
   "cell_type": "code",
   "execution_count": 31,
   "id": "b08c0878",
   "metadata": {},
   "outputs": [
    {
     "data": {
      "text/plain": [
       "False"
      ]
     },
     "execution_count": 31,
     "metadata": {},
     "output_type": "execute_result"
    }
   ],
   "source": [
    "0 in Interval.Lopen(0, 2)"
   ]
  }
 ],
 "metadata": {
  "kernelspec": {
   "display_name": "Python 3 (ipykernel)",
   "language": "python",
   "name": "python3"
  },
  "language_info": {
   "codemirror_mode": {
    "name": "ipython",
    "version": 3
   },
   "file_extension": ".py",
   "mimetype": "text/x-python",
   "name": "python",
   "nbconvert_exporter": "python",
   "pygments_lexer": "ipython3",
   "version": "3.9.13"
  }
 },
 "nbformat": 4,
 "nbformat_minor": 5
}
