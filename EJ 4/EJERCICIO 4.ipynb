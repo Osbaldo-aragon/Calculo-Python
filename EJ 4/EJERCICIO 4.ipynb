{
 "cells": [
  {
   "cell_type": "markdown",
   "id": "f7cd56cc",
   "metadata": {},
   "source": [
    "# <div style=\"text-align: center\">CURSO DE MATEMÁTICAS CON PYTHON</div>\n",
    "## <div style=\"text-align: center\">SymPy: Computación Simbólica</div>\n",
    "### <div style=\"text-align: center\">Elaborado por: Osbaldo Aragón, 09/ene/2023</div>"
   ]
  },
  {
   "cell_type": "markdown",
   "id": "8319aa88",
   "metadata": {},
   "source": [
    "La computación simbólica se refiere al desarrollo de algoritmos para manipular expresiones matemáticas y otros objetos matemáticos. Calculamos la raíz cuadrada de un número usando el módulo matemático de Python como se indica a continuación:"
   ]
  },
  {
   "cell_type": "code",
   "execution_count": 9,
   "id": "0b5e6bfe",
   "metadata": {
    "scrolled": true
   },
   "outputs": [
    {
     "name": "stdout",
     "output_type": "stream",
     "text": [
      "5.0 2.6457513110645907\n"
     ]
    }
   ],
   "source": [
    "import math\n",
    "print (math.sqrt(25), math.sqrt(7))"
   ]
  },
  {
   "cell_type": "markdown",
   "id": "97e0f3da",
   "metadata": {},
   "source": [
    "Como puede ver, la raíz cuadrada de 7 se calcula aproximadamente. Pero en SymPy, las raíces cuadradas de los números que no son cuadrados perfectos se dejan sin evaluar de forma predeterminada, como se indica a continuación:"
   ]
  },
  {
   "cell_type": "code",
   "execution_count": 1,
   "id": "0f8fe952",
   "metadata": {
    "scrolled": false
   },
   "outputs": [
    {
     "ename": "NameError",
     "evalue": "name 'sympy' is not defined",
     "output_type": "error",
     "traceback": [
      "\u001b[1;31m---------------------------------------------------------------------------\u001b[0m",
      "\u001b[1;31mNameError\u001b[0m                                 Traceback (most recent call last)",
      "\u001b[1;32m~\\AppData\\Local\\Temp\\ipykernel_15316\\3794361778.py\u001b[0m in \u001b[0;36m<module>\u001b[1;34m\u001b[0m\n\u001b[0;32m      1\u001b[0m \u001b[1;32mfrom\u001b[0m \u001b[0msympy\u001b[0m \u001b[1;32mimport\u001b[0m \u001b[1;33m*\u001b[0m\u001b[1;33m\u001b[0m\u001b[1;33m\u001b[0m\u001b[0m\n\u001b[1;32m----> 2\u001b[1;33m \u001b[0mprint\u001b[0m \u001b[1;33m(\u001b[0m\u001b[0msympy\u001b[0m\u001b[1;33m.\u001b[0m\u001b[0msqrt\u001b[0m\u001b[1;33m(\u001b[0m\u001b[1;36m7\u001b[0m\u001b[1;33m)\u001b[0m\u001b[1;33m)\u001b[0m\u001b[1;33m\u001b[0m\u001b[1;33m\u001b[0m\u001b[0m\n\u001b[0m",
      "\u001b[1;31mNameError\u001b[0m: name 'sympy' is not defined"
     ]
    }
   ],
   "source": [
    "from sympy import *\n",
    "print (sympy.sqrt(7))"
   ]
  },
  {
   "cell_type": "code",
   "execution_count": 4,
   "id": "e574b452",
   "metadata": {
    "scrolled": true
   },
   "outputs": [
    {
     "name": "stdout",
     "output_type": "stream",
     "text": [
      "2*sqrt(3)\n"
     ]
    },
    {
     "data": {
      "text/latex": [
       "$\\displaystyle 2 \\sqrt{3}$"
      ],
      "text/plain": [
       "2*sqrt(3)"
      ]
     },
     "execution_count": 4,
     "metadata": {},
     "output_type": "execute_result"
    }
   ],
   "source": [
    "print (sympy.sqrt(12))\n",
    "ex = sympy.sqrt(12)\n",
    "ex"
   ]
  },
  {
   "cell_type": "markdown",
   "id": "6e515cde",
   "metadata": {},
   "source": [
    "El código SymPy, cuando se ejecuta en el cuaderno Jupyter, utiliza la biblioteca MathJax para representar símbolos matemáticos en formato LatEx. Se muestra en el siguiente fragmento de código:"
   ]
  },
  {
   "cell_type": "code",
   "execution_count": 2,
   "id": "3abf113c",
   "metadata": {},
   "outputs": [
    {
     "data": {
      "text/latex": [
       "$\\displaystyle \\int x^{x}\\, dx$"
      ],
      "text/plain": [
       "Integral(x**x, x)"
      ]
     },
     "execution_count": 2,
     "metadata": {},
     "output_type": "execute_result"
    }
   ],
   "source": [
    "x = Symbol ('x')\n",
    "expr = integrate(x**x, x) \n",
    "expr"
   ]
  },
  {
   "cell_type": "code",
   "execution_count": 7,
   "id": "449cea22",
   "metadata": {
    "scrolled": true
   },
   "outputs": [
    {
     "data": {
      "text/latex": [
       "$\\displaystyle 2 \\sqrt{3}$"
      ],
      "text/plain": [
       "2*sqrt(3)"
      ]
     },
     "execution_count": 7,
     "metadata": {},
     "output_type": "execute_result"
    }
   ],
   "source": [
    "x = 12 \n",
    "sqrt(x)"
   ]
  },
  {
   "cell_type": "code",
   "execution_count": 4,
   "id": "ce451e4c",
   "metadata": {},
   "outputs": [],
   "source": [
    "a = Symbol ('a')\n",
    "b = Symbol ('b')\n",
    "c = Symbol ('c')"
   ]
  },
  {
   "cell_type": "code",
   "execution_count": 6,
   "id": "26633deb",
   "metadata": {
    "scrolled": true
   },
   "outputs": [
    {
     "name": "stdout",
     "output_type": "stream",
     "text": [
      "0.059\n"
     ]
    }
   ],
   "source": [
    "expr = 1/(a**3+b**2)\n",
    "print(expr.evalf(2,subs={a:2, b:3}))"
   ]
  },
  {
   "cell_type": "code",
   "execution_count": 37,
   "id": "45de80ab",
   "metadata": {},
   "outputs": [],
   "source": [
    "a = 2\n",
    "b = 3"
   ]
  },
  {
   "cell_type": "code",
   "execution_count": 38,
   "id": "b331faeb",
   "metadata": {},
   "outputs": [
    {
     "data": {
      "text/plain": [
       "0.058823529411764705"
      ]
     },
     "execution_count": 38,
     "metadata": {},
     "output_type": "execute_result"
    }
   ],
   "source": [
    "1/(a**3+b**2)"
   ]
  },
  {
   "cell_type": "markdown",
   "id": "5e7b2dc0",
   "metadata": {},
   "source": [
    "### ACTIVIDAD 4"
   ]
  },
  {
   "cell_type": "markdown",
   "id": "3c651aea",
   "metadata": {},
   "source": [
    "De forma simbolica represente la siguiente expreción:\n",
    "$$\n",
    "\\frac{u^2-3w}{4v^3 - 8 \\sqrt{w+1}}\n",
    "$$\n",
    "y despues evaluela para\n",
    "$$\n",
    "u = 10\\\\\n",
    "v = -5\\\\\n",
    "w = 8\n",
    "$$"
   ]
  }
 ],
 "metadata": {
  "kernelspec": {
   "display_name": "Python 3 (ipykernel)",
   "language": "python",
   "name": "python3"
  },
  "language_info": {
   "codemirror_mode": {
    "name": "ipython",
    "version": 3
   },
   "file_extension": ".py",
   "mimetype": "text/x-python",
   "name": "python",
   "nbconvert_exporter": "python",
   "pygments_lexer": "ipython3",
   "version": "3.9.13"
  }
 },
 "nbformat": 4,
 "nbformat_minor": 5
}
